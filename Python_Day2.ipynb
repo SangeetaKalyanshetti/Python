{
 "cells": [
  {
   "cell_type": "markdown",
   "id": "f6aa9c73-cbe8-4576-ba82-423e4cb7b81f",
   "metadata": {},
   "source": [
    "# Standard Input and Output"
   ]
  },
  {
   "cell_type": "code",
   "execution_count": 1,
   "id": "e4c298ef-9205-4b8b-aab8-8be39eb3a9ef",
   "metadata": {},
   "outputs": [
    {
     "name": "stdin",
     "output_type": "stream",
     "text": [
      "Please enter your name:  Sangeeta\n"
     ]
    },
    {
     "name": "stdout",
     "output_type": "stream",
     "text": [
      "Hello, Sangeeta\n"
     ]
    }
   ],
   "source": [
    "# Take input from user\n",
    "user_input = input(\"Please enter your name: \")\n",
    "print(\"Hello, \" + user_input)"
   ]
  },
  {
   "cell_type": "code",
   "execution_count": 2,
   "id": "782b304a-7f32-4438-a541-da4243c5a6c6",
   "metadata": {},
   "outputs": [
    {
     "name": "stdin",
     "output_type": "stream",
     "text": [
      "Please enter a number:  10\n"
     ]
    },
    {
     "name": "stdout",
     "output_type": "stream",
     "text": [
      "You have entered:  10\n"
     ]
    }
   ],
   "source": [
    "# Take numerical input from user\n",
    "num_input = int(input(\"Please enter a number: \"))\n",
    "print(\"You have entered: \", num_input)"
   ]
  },
  {
   "cell_type": "code",
   "execution_count": 3,
   "id": "44eaf999-3f1c-4717-981a-69a46d611cb0",
   "metadata": {},
   "outputs": [
    {
     "name": "stdout",
     "output_type": "stream",
     "text": [
      "Good Morning\n"
     ]
    }
   ],
   "source": [
    "# The print() function is used to output data to the standard output device (like the console). \n",
    "print(\"Good Morning\") # prints \"Good Morning\""
   ]
  },
  {
   "cell_type": "code",
   "execution_count": 4,
   "id": "a4fbb762-8aa4-45d9-870c-64bb5d361fcf",
   "metadata": {},
   "outputs": [
    {
     "name": "stdout",
     "output_type": "stream",
     "text": [
      "Hello, Alice\n"
     ]
    }
   ],
   "source": [
    "name = \"Alice\"\n",
    "print(\"Hello, \" + name) # prints \"Hello, Alice\""
   ]
  },
  {
   "cell_type": "code",
   "execution_count": 5,
   "id": "b8af8eee-ebb3-4dda-a659-bdfb4c73c649",
   "metadata": {},
   "outputs": [
    {
     "name": "stdout",
     "output_type": "stream",
     "text": [
      "Hello, Tom You are 25 years old.\n"
     ]
    }
   ],
   "source": [
    "name = \"Tom\"\n",
    "age = 25\n",
    "print(\"Hello, \" + name, \"You are\", age, \"years old.\")\n",
    "# prints \"Hello, Tom You are 20 years old.\""
   ]
  },
  {
   "cell_type": "code",
   "execution_count": 6,
   "id": "a858d6b2-0902-4c33-a497-b37bb1d3f9dd",
   "metadata": {},
   "outputs": [
    {
     "name": "stdout",
     "output_type": "stream",
     "text": [
      "20\n"
     ]
    }
   ],
   "source": [
    "a = 10\n",
    "b = 20\n",
    "c = a + b\n",
    "print(b)"
   ]
  },
  {
   "cell_type": "code",
   "execution_count": 7,
   "id": "6334f222-21b0-495f-a9bb-e91ecdccfc42",
   "metadata": {},
   "outputs": [
    {
     "name": "stdin",
     "output_type": "stream",
     "text": [
      "Roll no: 1\n"
     ]
    },
    {
     "name": "stdout",
     "output_type": "stream",
     "text": [
      "Welcome to: 1\n"
     ]
    }
   ],
   "source": [
    "# take input from the user\n",
    "rn = input(\"Roll no:\")\n",
    "print(f\"Welcome to: {rn}\")"
   ]
  },
  {
   "cell_type": "markdown",
   "id": "7be88a7b-4dc7-484e-8a30-53d7c93e97e9",
   "metadata": {},
   "source": [
    "# Operators"
   ]
  },
  {
   "cell_type": "code",
   "execution_count": 8,
   "id": "8c824dca-f43d-42d5-b5b1-b477e749a843",
   "metadata": {},
   "outputs": [],
   "source": [
    "a = 10\n",
    "b = 20"
   ]
  },
  {
   "cell_type": "code",
   "execution_count": 9,
   "id": "f714fdc3-075e-4caf-8ccc-2d6e57a946a5",
   "metadata": {},
   "outputs": [
    {
     "name": "stdout",
     "output_type": "stream",
     "text": [
      "False\n"
     ]
    }
   ],
   "source": [
    "print(a == b)"
   ]
  },
  {
   "cell_type": "code",
   "execution_count": 10,
   "id": "c2af2e52-8610-493d-b831-67ef84cd815b",
   "metadata": {},
   "outputs": [
    {
     "name": "stdout",
     "output_type": "stream",
     "text": [
      "False\n"
     ]
    }
   ],
   "source": [
    "a = 10\n",
    "b = 10\n",
    "print(a != b) # Not Equal condition. If it is not equal: output is True"
   ]
  },
  {
   "cell_type": "code",
   "execution_count": 11,
   "id": "89e155ff-161e-406a-9918-75dba75be24b",
   "metadata": {},
   "outputs": [
    {
     "name": "stdout",
     "output_type": "stream",
     "text": [
      "True\n"
     ]
    }
   ],
   "source": [
    "a = 31\n",
    "b = 31\n",
    "#print(a > b)\n",
    "#print(a < b)\n",
    "\n",
    "print(a <= b)"
   ]
  },
  {
   "cell_type": "code",
   "execution_count": 12,
   "id": "76cc00b5-b213-4d78-ab24-36de08acaa78",
   "metadata": {},
   "outputs": [
    {
     "name": "stdout",
     "output_type": "stream",
     "text": [
      "True\n"
     ]
    }
   ],
   "source": [
    "# Logical operators\n",
    "\n",
    "# We to apply for job: two conditions are there: (1) More than 60% marks, and (2) You should be from CS, IT\n",
    "#-------------------- AND ---------------------------\n",
    "# Tom he has 75% and he is from Arts = Tom will be out\n",
    "# Alice she has 61% and she is from CS = Alice will go and give the interview\n",
    "\n",
    "# We to apply for job: two conditions are there: (1) More than 60% marks, or (2) You should be from CS, IT\n",
    "#-------------------- OR ---------------------------\n",
    "# Tom he has 75% and he is from Arts \n",
    "# Alice she has 61% and she is from CS \n",
    "# Both Alice and Tom will give the interview\n",
    "\n",
    "#-------------------- NOT ---------------------------\n",
    "# Opposite to what you have\n",
    "\n",
    "\n",
    "a = True\n",
    "b = False\n",
    "\n",
    "#print(a and b)\n",
    "\n",
    "#print(a or b)\n",
    "\n",
    "print(not b)"
   ]
  },
  {
   "cell_type": "code",
   "execution_count": 13,
   "id": "686bc67a-d815-48cb-a215-bf9e7fa74482",
   "metadata": {},
   "outputs": [
    {
     "name": "stdout",
     "output_type": "stream",
     "text": [
      "14\n"
     ]
    }
   ],
   "source": [
    "# binary numbers: 0,1   10 = 1010\n",
    "\n",
    "a = 10  # 1010\n",
    "b = 4   # 0100\n",
    "\n",
    "bin(10)\n",
    "bin(4)\n",
    "\n",
    "#result = a & b\n",
    "#print(result)\n",
    "\n",
    "# 10 = 1 0 1 0\n",
    "# 4 =  0 1 0 0\n",
    "#--------------\n",
    "#      0 0 0 0 = 0\n",
    "\n",
    "# & compares each bit of the 1st operand with the 2nd. \n",
    "# if both bits are 1. The corresponding bit is set to 1 Otherwise 0\n",
    "\n",
    "# OR\n",
    "# | compares each bit of the 1st operand with the 2nd. \n",
    "# If either bit is 1, the corresponding result bit is set 1, otherwise the result bit is set to 0\n",
    "# result = a | b\n",
    "# print(result)\n",
    "\n",
    "# 10 = 1 0 1 0\n",
    "# 4 =  0 1 0 0\n",
    "#--------------\n",
    "#      1 1 1 0 = 14\n",
    "\n",
    "# Not ~ \n",
    "\n",
    "# XOR\n",
    "# ^ compares each bit of the 1st operand with the 2nd. \n",
    "# If one bit is 1 (but not both), the corresponding result bit is set to 1, otherwise set to 0\n",
    "\n",
    "a = 10  # 1010\n",
    "b = 4   # 0100\n",
    "\n",
    "result = a ^ b\n",
    "print(result)  # 14 = 1110\n",
    "\n",
    "# 10 = 1 0 1 0\n",
    "# 4 =  0 1 0 0\n",
    "#--------------\n",
    "#      1 1 1 0 = 14"
   ]
  },
  {
   "cell_type": "code",
   "execution_count": 14,
   "id": "e9a64746-c27e-47f2-9e05-0d201f57b78b",
   "metadata": {},
   "outputs": [
    {
     "name": "stdout",
     "output_type": "stream",
     "text": [
      "5\n"
     ]
    }
   ],
   "source": [
    "# Right Shift\n",
    "a = 10 # 1010\n",
    "result = a >> 1 \n",
    "print(result)\n",
    "\n",
    "# 10 =  1 0 1 0\n",
    "# 5  =  0 1 0 1  "
   ]
  },
  {
   "cell_type": "code",
   "execution_count": 15,
   "id": "1bcc561b-e217-471c-951d-d4d7d674eceb",
   "metadata": {},
   "outputs": [
    {
     "name": "stdout",
     "output_type": "stream",
     "text": [
      "5\n"
     ]
    },
    {
     "data": {
      "text/plain": [
       "'0b1010'"
      ]
     },
     "execution_count": 15,
     "metadata": {},
     "output_type": "execute_result"
    }
   ],
   "source": [
    "# left shift\n",
    "a = 5\n",
    "#result = a << 2\n",
    "print(result)\n",
    "\n",
    "# 5  =  0 1 0 1 \n",
    "# 20 =  1 0 1 0 0\n",
    "\n",
    "bin(10)"
   ]
  },
  {
   "cell_type": "code",
   "execution_count": 16,
   "id": "4efbb2b5-e4f7-42b8-b770-4e330ecabdc6",
   "metadata": {},
   "outputs": [
    {
     "name": "stdout",
     "output_type": "stream",
     "text": [
      "8\n"
     ]
    }
   ],
   "source": [
    "# Assignment operators\n",
    "\n",
    "a = 5\n",
    "# a = a + 3 \n",
    "a += 3 # same as this: a = a + 3\n",
    "print(a)\n",
    "\n"
   ]
  },
  {
   "cell_type": "code",
   "execution_count": 17,
   "id": "c46509de-2345-413d-b617-283da2768544",
   "metadata": {},
   "outputs": [
    {
     "name": "stdout",
     "output_type": "stream",
     "text": [
      "2\n"
     ]
    }
   ],
   "source": [
    "a = 5\n",
    "# a = a - 3 \n",
    "a -= 3 # same as this: a = a - 3\n",
    "print(a)"
   ]
  },
  {
   "cell_type": "code",
   "execution_count": 18,
   "id": "d1a1b0ab-57f4-424d-b628-fce6500fb1e2",
   "metadata": {},
   "outputs": [
    {
     "name": "stdout",
     "output_type": "stream",
     "text": [
      "15\n"
     ]
    }
   ],
   "source": [
    "a = 5\n",
    "# a = a * 3 \n",
    "a *= 3 # same as this: a = a * 3\n",
    "print(a)"
   ]
  },
  {
   "cell_type": "code",
   "execution_count": 19,
   "id": "749f485a-1bfe-4996-b361-53b653c4d8c6",
   "metadata": {},
   "outputs": [
    {
     "name": "stdout",
     "output_type": "stream",
     "text": [
      "5.0\n"
     ]
    }
   ],
   "source": [
    "a = 15\n",
    "# a = a / 3 \n",
    "a /= 3 # same as this: a = a / 3\n",
    "print(a)"
   ]
  },
  {
   "cell_type": "markdown",
   "id": "c7958358-37d5-4eea-a061-6b455d160b43",
   "metadata": {},
   "source": [
    "# If Statement"
   ]
  },
  {
   "cell_type": "code",
   "execution_count": 21,
   "id": "39749458-66c4-457a-97b2-ab0bfdca35b5",
   "metadata": {},
   "outputs": [],
   "source": [
    "age = 17\n",
    "if age >= 18:\n",
    "    print(\"Congs, You can drive\")"
   ]
  },
  {
   "cell_type": "code",
   "execution_count": 22,
   "id": "7cf1c086-cc88-4555-83a7-13e708de25f6",
   "metadata": {},
   "outputs": [
    {
     "name": "stdout",
     "output_type": "stream",
     "text": [
      "Congs, You can drive\n"
     ]
    }
   ],
   "source": [
    "age = 21\n",
    "if age >= 18:\n",
    "    print(\"Congs, You can drive\")\n",
    "else:\n",
    "    print(\"Sorry due to age limitations you cannot drive\")"
   ]
  },
  {
   "cell_type": "code",
   "execution_count": 23,
   "id": "cb01ed8a-e036-421d-a2b2-da40085feeec",
   "metadata": {},
   "outputs": [
    {
     "name": "stdout",
     "output_type": "stream",
     "text": [
      "Average performance, your gade is B\n"
     ]
    }
   ],
   "source": [
    "score = 75\n",
    "if score >= 90:\n",
    "    print(\"Excellent performance, your gade is A+\")\n",
    "elif score >= 80:\n",
    "    print(\"Good performance, your gade is A\")\n",
    "elif score >= 70:\n",
    "    print(\"Average performance, your gade is B\")\n",
    "else:\n",
    "    print(\"Performance not good, your grade is C\")"
   ]
  },
  {
   "cell_type": "code",
   "execution_count": 24,
   "id": "784bbcc7-dd9d-4aa0-8615-f512b2b24ee9",
   "metadata": {},
   "outputs": [
    {
     "name": "stdout",
     "output_type": "stream",
     "text": [
      "Largest number is: 30\n"
     ]
    }
   ],
   "source": [
    "# Find largest number from 3 given number\n",
    "num1 = 10\n",
    "num2 = 20\n",
    "num3 = 30\n",
    "\n",
    "if (num1 >= num2) and (num1 >= num3):\n",
    "    largest = num1\n",
    "    print(\"Largest number is:\", largest)\n",
    "elif (num2 >= num1) and (num2 >= num3):\n",
    "    largest = num2\n",
    "    print(\"Largest number is:\", largest)\n",
    "else:\n",
    "    largest = num3\n",
    "    print(\"Largest number is:\", largest)\n",
    "    \n",
    "#print(\"Largest number is:\", largest)"
   ]
  },
  {
   "cell_type": "code",
   "execution_count": 25,
   "id": "a36eac91-61d3-49cd-8038-ba442a5a3a42",
   "metadata": {},
   "outputs": [
    {
     "name": "stdin",
     "output_type": "stream",
     "text": [
      "Please enter 1st number: 20\n",
      "Please enter 2nd number: 10\n",
      "Please enter 3rd number: 50\n"
     ]
    },
    {
     "name": "stdout",
     "output_type": "stream",
     "text": [
      "Largest number is: 50.0\n"
     ]
    }
   ],
   "source": [
    "# Find largest number from 3 given number\n",
    "num1 = float(input(\"Please enter 1st number:\"))  # input() it return string.\n",
    "num2 = float(input(\"Please enter 2nd number:\"))\n",
    "num3 = float(input(\"Please enter 3rd number:\"))\n",
    "\n",
    "if (num1 >= num2) and (num1 >= num3):\n",
    "    largest = num1\n",
    "    print(\"Largest number is:\", largest)\n",
    "elif (num2 >= num1) and (num2 >= num3):\n",
    "    largest = num2\n",
    "    print(\"Largest number is:\", largest)\n",
    "else:\n",
    "    largest = num3\n",
    "    print(\"Largest number is:\", largest)"
   ]
  },
  {
   "cell_type": "code",
   "execution_count": 1,
   "id": "d4d77e32-b30b-4db2-8715-edd864c5f7eb",
   "metadata": {},
   "outputs": [
    {
     "name": "stdin",
     "output_type": "stream",
     "text": [
      "Enter you choice (add/sub/div/mul): add\n",
      "Please enter 1st number: 10\n",
      "Please enter 2nd number: 20\n"
     ]
    },
    {
     "name": "stdout",
     "output_type": "stream",
     "text": [
      "10.0 + 20.0 = 30.0\n"
     ]
    }
   ],
   "source": [
    "# let us make a simple calculator which takes the choice of operation from user\n",
    "# Also user enter two numbers which needed to be computed.\n",
    "\n",
    "choice = input(\"Enter you choice (add/sub/div/mul):\")\n",
    "\n",
    "num1 = float(input(\"Please enter 1st number:\"))  \n",
    "num2 = float(input(\"Please enter 2nd number:\"))\n",
    "\n",
    "if choice == \"add\":\n",
    "    print(num1, \"+\", num2, \"=\", num1 + num2)\n",
    "elif choice == \"sub\":\n",
    "    print(num1, \"-\", num2, \"=\", num1 - num2)\n",
    "elif choice == \"div\":\n",
    "    print(num1, \"/\", num2, \"=\", num1 / num2)\n",
    "elif choice == \"mul\":\n",
    "    print(num1, \"*\", num2, \"=\", num1 * num2)\n",
    "else:\n",
    "    print(\"wrong choice\")"
   ]
  },
  {
   "cell_type": "code",
   "execution_count": 2,
   "id": "49c525b1-02cb-4712-af9a-6a239c30806a",
   "metadata": {},
   "outputs": [],
   "source": [
    "# We have 3 designations: Executive, Manager, Senior Manager\n",
    "# take input from the user \"Designation\" and print salary range of that designation\n",
    "# Executive: 30000-40000\n",
    "# Manager: 60000-90000\n",
    "# Senior Manager:  120000-160000\n",
    "\n",
    "# Input: Ask the designation from user: \"Executive\"\n",
    "# Output: The salary range of the Executive is: 30000-40000\n"
   ]
  },
  {
   "cell_type": "code",
   "execution_count": 3,
   "id": "e9bd4d35-1fcd-40fa-8d88-6dc690e1a175",
   "metadata": {},
   "outputs": [
    {
     "name": "stdin",
     "output_type": "stream",
     "text": [
      " Enter your designation (Executive/Manager/Senior Manager): Manager\n"
     ]
    },
    {
     "name": "stdout",
     "output_type": "stream",
     "text": [
      "The salary range for manager between 60000-90000\n"
     ]
    }
   ],
   "source": [
    "designation = input(\" Enter your designation (Executive/Manager/Senior Manager):\")\n",
    "\n",
    "designation = designation.lower() # Convert to lower (small letters)\n",
    "\n",
    "if designation == \"executive\":\n",
    "    print(\"The salary range for executives between 30000-40000\")\n",
    "elif designation == \"manager\":\n",
    "    print(\"The salary range for manager between 60000-90000\")\n",
    "elif designation == \"senior manager\":\n",
    "    print(\"The salary range for senior manager between 120000-160000\")\n",
    "else:\n",
    "    print(\"Please enter correct choice (Executive/Manager/Senior Manager).\")"
   ]
  },
  {
   "cell_type": "markdown",
   "id": "bcaf8ec5-d763-47f9-8d3b-8a7a493794d3",
   "metadata": {},
   "source": [
    "# For Loop"
   ]
  },
  {
   "cell_type": "code",
   "execution_count": 4,
   "id": "15246248-4237-44ac-ba49-d691bcebd058",
   "metadata": {},
   "outputs": [
    {
     "name": "stdout",
     "output_type": "stream",
     "text": [
      "0\n",
      "1\n",
      "2\n",
      "3\n",
      "4\n"
     ]
    }
   ],
   "source": [
    "# range(): generating sequence of number 1, 2, 3, 4, 5\n",
    "for i in range(5): # range(stop)\n",
    "    print(i)"
   ]
  },
  {
   "cell_type": "code",
   "execution_count": 5,
   "id": "1413f7c9-8ab8-44df-8e54-36ae2277865a",
   "metadata": {},
   "outputs": [
    {
     "name": "stdout",
     "output_type": "stream",
     "text": [
      "2\n",
      "3\n",
      "4\n"
     ]
    }
   ],
   "source": [
    "for i in range(2, 5): # range(stop, start)\n",
    "    print(i)"
   ]
  },
  {
   "cell_type": "code",
   "execution_count": 6,
   "id": "f1bfb74a-932d-4115-bccf-a24226625d34",
   "metadata": {},
   "outputs": [
    {
     "name": "stdout",
     "output_type": "stream",
     "text": [
      "0\n",
      "2\n",
      "4\n",
      "6\n",
      "8\n",
      "10\n",
      "12\n",
      "14\n",
      "16\n",
      "18\n"
     ]
    }
   ],
   "source": [
    "for i in range(0, 20, 2): # using range(start, stop, step)\n",
    "    print(i)"
   ]
  },
  {
   "cell_type": "code",
   "execution_count": 7,
   "id": "5a956a5d-3541-47ad-8aef-f7c79c29620c",
   "metadata": {},
   "outputs": [
    {
     "name": "stdout",
     "output_type": "stream",
     "text": [
      "India\n",
      "UK\n",
      "USA\n",
      "Germany\n"
     ]
    }
   ],
   "source": [
    "# Let have for loop on list\n",
    "country = [\"India\", \"UK\", \"USA\", \"Germany\"]  # 4... 1,2,3,4....  0,1,2,3\n",
    "\n",
    "for ct in country:\n",
    "    print(ct)"
   ]
  },
  {
   "cell_type": "code",
   "execution_count": 8,
   "id": "c493a09b-0382-4a4a-b5ff-1acece6285e8",
   "metadata": {},
   "outputs": [
    {
     "name": "stdout",
     "output_type": "stream",
     "text": [
      "India\n",
      "UK\n",
      "USA\n",
      "3\n"
     ]
    }
   ],
   "source": [
    "country = [\"India\", \"UK\", \"USA\"] # 0,1,2,3\n",
    "\n",
    "for index in range(len(country)):\n",
    "    print(country[index])\n",
    "    \n",
    "# country[0]\n",
    "# country[1]\n",
    "# country[2]\n",
    "# country[3]\n",
    "\n",
    "print(len(country))"
   ]
  },
  {
   "cell_type": "code",
   "execution_count": 9,
   "id": "06dd1943-f151-466f-9fe0-0e42f5cd708b",
   "metadata": {},
   "outputs": [],
   "source": [
    "# banks\n",
    "# insurance\n",
    "# credit limits"
   ]
  },
  {
   "cell_type": "code",
   "execution_count": 10,
   "id": "3cfdf169-f919-48cc-a19f-6d726966af1c",
   "metadata": {},
   "outputs": [
    {
     "name": "stdout",
     "output_type": "stream",
     "text": [
      "* \n",
      "* * \n",
      "* * * \n",
      "* * * * \n",
      "* * * * * \n"
     ]
    }
   ],
   "source": [
    "# This script will output a pattern of asterisks as follows:\n",
    "# *\n",
    "# * *\n",
    "# * * *\n",
    "# * * * *\n",
    "# * * * * *\n",
    "\n",
    "# The outer loop controls the number of rows\n",
    "for i in range(5):\n",
    "    # The inner loop controls the number of asterisks (*) in each row\n",
    "    for j in range(i+1):\n",
    "        # Print an asterisk, and with 'end' parameter we can avoid new line after each print statement\n",
    "        print('*', end=' ')\n",
    "    # After each row, print a newline to move to the next row\n",
    "    print()"
   ]
  },
  {
   "cell_type": "code",
   "execution_count": 11,
   "id": "c042b0de-4d9b-423f-a958-649f6e7f7a3e",
   "metadata": {},
   "outputs": [],
   "source": [
    "# print(\"*\",end=\" \")\n",
    "# print asterisks sign \n",
    "# end=\" \" to have the space between *   \\n"
   ]
  },
  {
   "cell_type": "code",
   "execution_count": 12,
   "id": "f76949a5-c5ef-45ec-b0e0-2d9a5f346416",
   "metadata": {},
   "outputs": [
    {
     "name": "stdout",
     "output_type": "stream",
     "text": [
      "16 \n",
      "16 8 \n",
      "16 8 4 \n",
      "16 8 4 2 \n"
     ]
    }
   ],
   "source": [
    "# Print follwoing pattern:\n",
    "# Pattern\n",
    "# 16\n",
    "# 16 8\n",
    "# 16 8 4\n",
    "# 16 8 4 2\n",
    "\n",
    "# Initial number is 16, and we want to print four lines.\n",
    "initial_num = 16\n",
    "lines = 4\n",
    "\n",
    "# The outer loop controls the number of lines.\n",
    "for i in range(lines):\n",
    "    num = initial_num\n",
    "    # The inner loop controls the numbers on each line.\n",
    "    # For each line, we print the numbers by successively halving.\n",
    "    for j in range(i + 1):\n",
    "        # The print function prints the current number followed by a space.\n",
    "        print(num, end=' ')\n",
    "        # Update the number by halving it\n",
    "        num //= 2\n",
    "    # After all the numbers on a line have been printed, we print a newline character\n",
    "    print()"
   ]
  },
  {
   "cell_type": "markdown",
   "id": "4f370abf-6b4b-4344-996b-9355ca500077",
   "metadata": {},
   "source": [
    "# Nested For Loop"
   ]
  },
  {
   "cell_type": "code",
   "execution_count": 13,
   "id": "c645d64c-c046-42d4-a187-ddce843a80de",
   "metadata": {},
   "outputs": [
    {
     "name": "stdout",
     "output_type": "stream",
     "text": [
      "1\t2\t3\t4\t5\t\n",
      "2\t4\t6\t8\t10\t\n",
      "3\t6\t9\t12\t15\t\n",
      "4\t8\t12\t16\t20\t\n",
      "5\t10\t15\t20\t25\t\n"
     ]
    }
   ],
   "source": [
    "#Print the following pattern:\n",
    "# 1    2    3    4     5\n",
    "# 2    4    6    8     10\n",
    "# 3    6    9    12    15   \n",
    "# 4    8    12   16    20\n",
    "# 5   10    15   20    25 \n",
    "\n",
    "# The outer loop iterates over the first 5 numbers\n",
    "for i in range(1, 6):\n",
    "    # For each number 'i', the inner loop iterates over the first 5 numbers as well\n",
    "    for j in range(1, 6):\n",
    "        # Print the product of 'i' and 'j', followed by a tab space\n",
    "        print(i * j, end='\\t')\n",
    "    # After each row of the table, print a newline to move to the next row\n",
    "    print()\n"
   ]
  },
  {
   "cell_type": "markdown",
   "id": "ded66996-eb80-4487-8947-7e6159aa47df",
   "metadata": {},
   "source": [
    "# While"
   ]
  },
  {
   "cell_type": "code",
   "execution_count": 14,
   "id": "ac09083b-7b19-444c-9c7f-99dfeca144d8",
   "metadata": {},
   "outputs": [
    {
     "name": "stdout",
     "output_type": "stream",
     "text": [
      "1\n",
      "2\n",
      "3\n",
      "4\n",
      "5\n"
     ]
    }
   ],
   "source": [
    "count = 1\n",
    "\n",
    "while count <= 5:   # while will run untill value of count is 5. If value is 6, it will not run\n",
    "    print(count)    # printing value of count\n",
    "    count += 1      # count = count + 1\n",
    "    \n",
    "#Check count <= 5..... count = 1 that mean condition true, condition holds\n",
    "\n",
    "# 1st interation\n",
    "# Step 1: print the value of count 1\n",
    "# Step 2: count will be incremented by 1 count = count + 1\n",
    "\n",
    "# Now updated Count = 2\n",
    "# while count <= 5: still condition is true\n",
    "    \n",
    "# 2nd interation\n",
    "# Step 1: print the value of count 2\n",
    "# Step 2: count will be incremented by 1 count = count + 1 = 2 + 1 = 3\n",
    "\n",
    "# Now updated Count = 3\n",
    "# while count <= 5: still condition is true\n",
    "\n",
    "# 3rd interation\n",
    "# Step 1: print the value of count 3\n",
    "# Step 2: count will be incremented by 1 count = count + 1 = 3 + 1 = 4\n",
    "\n",
    "# Now updated Count = 4\n",
    "# while count <= 5: still condition is true\n",
    "\n",
    "# 4th interation\n",
    "# Step 1: print the value of count 4\n",
    "# Step 2: count will be incremented by 1 count = count + 1 = 4 + 1 = 5\n",
    "\n",
    "# Now updated Count = 5\n",
    "# while count <= 5: still condition is true\n",
    "\n",
    "# 5th interation\n",
    "# Step 1: print the value of count 5\n",
    "# Step 2: count will be incremented by 1 count = count + 1 = 5 + 1 = 6\n",
    "\n",
    "# Now updated Count = 6\n",
    "# while count <= 5: Now condition false\n"
   ]
  },
  {
   "cell_type": "code",
   "execution_count": 15,
   "id": "488280e9-e630-41dc-a483-26c6b03f6284",
   "metadata": {},
   "outputs": [
    {
     "name": "stdin",
     "output_type": "stream",
     "text": [
      "Enter a word (or quit to exit): Hi\n"
     ]
    },
    {
     "name": "stdout",
     "output_type": "stream",
     "text": [
      "You entered: Hi\n"
     ]
    },
    {
     "name": "stdin",
     "output_type": "stream",
     "text": [
      "Enter a word (or quit to exit): GM\n"
     ]
    },
    {
     "name": "stdout",
     "output_type": "stream",
     "text": [
      "You entered: GM\n"
     ]
    },
    {
     "name": "stdin",
     "output_type": "stream",
     "text": [
      "Enter a word (or quit to exit): quit\n"
     ]
    },
    {
     "name": "stdout",
     "output_type": "stream",
     "text": [
      "You entered: quit\n"
     ]
    }
   ],
   "source": [
    "text = \"\"\n",
    "\n",
    "while text != \"quit\":\n",
    "    text = input(\"Enter a word (or quit to exit):\")\n",
    "    print(\"You entered:\", text)"
   ]
  },
  {
   "cell_type": "code",
   "execution_count": 16,
   "id": "b1f7e226-1acf-4071-b122-4572a283494f",
   "metadata": {},
   "outputs": [
    {
     "name": "stdout",
     "output_type": "stream",
     "text": [
      "Old Salary is:\n",
      "[30000, 40000, 45000, 40000]\n",
      "Updated Salary is:\n",
      "[30000, 40000, 45000, 42000.0]\n"
     ]
    }
   ],
   "source": [
    "# For we used generally we know when to stop\n",
    "# While is generally use when stop condition will be satisfied, we do not know\n",
    "# We have a list nm = [Alice, Tom, Marry, James]\n",
    "# Salary = [30000, 40000, 45000, 40000]\n",
    "# give 5 % bonus to James only as he is performing great. Boss is happy\n",
    "\n",
    "names = [\"Alice\", \"Tom\", \"Marry\", \"James\"]\n",
    "salary = [30000, 40000, 45000, 40000]\n",
    "\n",
    "print(\"Old Salary is:\")\n",
    "print(salary)\n",
    "# First sub-problem is we will iterate both lists\n",
    "# We need to update salary of James only\n",
    "\n",
    "for i in range(len(names)):\n",
    "    if names[i] == \"James\":\n",
    "        increment = salary[i]*0.05\n",
    "        salary[i] += increment\n",
    "\n",
    "print(\"Updated Salary is:\")\n",
    "print(salary)"
   ]
  },
  {
   "cell_type": "code",
   "execution_count": 17,
   "id": "7fba00c5-750b-4256-857d-90e01b35305d",
   "metadata": {},
   "outputs": [
    {
     "name": "stdout",
     "output_type": "stream",
     "text": [
      "hi\n",
      "hi\n",
      "hi\n",
      "hi\n",
      "hi\n",
      "hi\n",
      "hi\n",
      "hi\n",
      "hi\n",
      "hi\n",
      "hi\n",
      "hi\n",
      "hi\n",
      "hi\n",
      "hi\n",
      "hi\n",
      "hi\n",
      "hi\n",
      "hi\n",
      "hi\n",
      "hi\n",
      "hi\n",
      "hi\n",
      "hi\n",
      "hi\n",
      "hi\n",
      "hi\n",
      "hi\n",
      "hi\n",
      "hi\n",
      "hi\n",
      "hi\n",
      "hi\n",
      "hi\n"
     ]
    }
   ],
   "source": [
    "# Have a while loop run for a specific amount of time, you can use the time module in Python. \n",
    "# Here's an example of a while loop that prints \"hi\" for 10 seconds:\n",
    "\n",
    "import time\n",
    "\n",
    "# Get the current time\n",
    "start_time = time.time()\n",
    "\n",
    "# This is the time, in seconds, for which we want the loop to run\n",
    "duration = 10\n",
    "\n",
    "# This while loop will run until the elapsed time is greater than the specified duration\n",
    "while time.time() - start_time < duration:\n",
    "    print(\"hi\")\n",
    "    # It's a good idea to add a small delay, so we don't print \"hi\" too rapidly\n",
    "    time.sleep(0.3)"
   ]
  },
  {
   "cell_type": "markdown",
   "id": "b81b8a0a-691b-4bce-b552-97f6becfafc6",
   "metadata": {},
   "source": [
    "# Nested For and IF"
   ]
  },
  {
   "cell_type": "code",
   "execution_count": 18,
   "id": "ed2179b5-79fb-421c-930e-72d8724456a6",
   "metadata": {},
   "outputs": [
    {
     "name": "stdout",
     "output_type": "stream",
     "text": [
      "3 is divisible by 3\n",
      "6 is divisible by 3\n",
      "9 is divisible by 3\n"
     ]
    }
   ],
   "source": [
    "# Given a list of numbers, we want to check if a number is divisible by 3 and print it if it is.\n",
    "\n",
    "# Here's our list\n",
    "numbers = [1, 2, 3, 4, 5, 6, 7, 8, 9]\n",
    "\n",
    "# The loop goes through each number in the list\n",
    "for num in numbers:\n",
    "    # The if statement checks if the number is divisible by 3\n",
    "    if num % 3 == 0:\n",
    "        # If the number is divisible by 3, print it\n",
    "        print(f\"{num} is divisible by 3\")"
   ]
  },
  {
   "cell_type": "code",
   "execution_count": 19,
   "id": "8f9a9523-faf2-4baa-9a0c-f96e8291b23f",
   "metadata": {},
   "outputs": [
    {
     "name": "stdout",
     "output_type": "stream",
     "text": [
      "['John', 'SARAH', 'Alice', 'Bob', 'CHARLIE']\n"
     ]
    }
   ],
   "source": [
    "# Here's our list\n",
    "names = ['john', 'SARAH', 'alice', 'bob', 'CHARLIE']\n",
    "\n",
    "# The loop goes through each name in the list\n",
    "for i in range(len(names)):\n",
    "    # The if statement checks if the name does not start with a capital letter\n",
    "    if not names[i][0].isupper():\n",
    "        # If the name doesn't start with a capital letter, capitalize it\n",
    "        names[i] = names[i].capitalize()\n",
    "\n",
    "# Print the updated names list\n",
    "print(names)"
   ]
  },
  {
   "cell_type": "code",
   "execution_count": null,
   "id": "1f4aa6c4-723a-4e90-9958-27e8dc85f7a7",
   "metadata": {},
   "outputs": [],
   "source": []
  }
 ],
 "metadata": {
  "kernelspec": {
   "display_name": "Python 3 (ipykernel)",
   "language": "python",
   "name": "python3"
  },
  "language_info": {
   "codemirror_mode": {
    "name": "ipython",
    "version": 3
   },
   "file_extension": ".py",
   "mimetype": "text/x-python",
   "name": "python",
   "nbconvert_exporter": "python",
   "pygments_lexer": "ipython3",
   "version": "3.10.6"
  }
 },
 "nbformat": 4,
 "nbformat_minor": 5
}
