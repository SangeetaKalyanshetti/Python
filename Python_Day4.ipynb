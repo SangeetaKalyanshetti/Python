{
 "cells": [
  {
   "cell_type": "markdown",
   "id": "6016c271-ac15-4d8d-b56d-ee43a1f3500e",
   "metadata": {},
   "source": [
    "# User Defined Function"
   ]
  },
  {
   "cell_type": "markdown",
   "id": "e271e188-34a4-43c8-9341-b34947d6563b",
   "metadata": {},
   "source": [
    "A user-defined function in Python is a code block that performs a specific task and is defined by the programmer. Here are the key points about user-defined functions:\n",
    "\n",
    "- Definition: User-defined functions are created with the def keyword followed by a function name of your choosing.\n",
    "\n",
    "- Parameters: Functions can take parameters, which are values you supply to the function so it can perform a computation with them. These parameters are placed inside parentheses after the function name.\n",
    "\n",
    "- Body: After the parameters, you write a colon : and indent the next line to begin the function's body, which contains the statements that will be executed when the function is called.\n",
    "\n",
    "- Return: Functions can optionally return a value using the return statement. The value that's returned can be used in other parts of your program. If no return statement is specified, the function will return None.\n",
    "\n",
    "- Calling: After defining a function, you can \"call\" it by writing its name followed by parentheses (). If the function takes parameters, you can supply them inside these parentheses."
   ]
  },
  {
   "cell_type": "code",
   "execution_count": 2,
   "id": "110b777d-6daa-44f5-952a-7bfa07f4141e",
   "metadata": {},
   "outputs": [
    {
     "name": "stdout",
     "output_type": "stream",
     "text": [
      "Hello, this is my first function\n"
     ]
    }
   ],
   "source": [
    "def introduction():\n",
    "  print(\"Hello, this is my first function\")\n",
    "\n",
    "# Call function\n",
    "introduction()"
   ]
  },
  {
   "cell_type": "code",
   "execution_count": 4,
   "id": "745c99a3-cda4-42c4-a762-b83bd5b91866",
   "metadata": {},
   "outputs": [
    {
     "name": "stdout",
     "output_type": "stream",
     "text": [
      "Sangeeta is my first name\n"
     ]
    }
   ],
   "source": [
    "# Single argument \n",
    "def introduction(fname):\n",
    "  print(fname + \" is my first name\")\n",
    "\n",
    "introduction(\"Sangeeta\")"
   ]
  },
  {
   "cell_type": "code",
   "execution_count": 5,
   "id": "63cf4ceb-1784-43c9-8d22-df9f4f54e6d6",
   "metadata": {},
   "outputs": [
    {
     "name": "stdout",
     "output_type": "stream",
     "text": [
      "My first name is Sangeeta and my last name is Kalyanshetti\n"
     ]
    }
   ],
   "source": [
    "def introduction(fname, lname):\n",
    "  print(\"My first name is \" + fname + \" and my last name is \" + lname)\n",
    "\n",
    "introduction(\"Sangeeta\", \"Kalyanshetti\")"
   ]
  },
  {
   "cell_type": "code",
   "execution_count": 6,
   "id": "37010cf9-402c-478e-97fd-ae308e9c0bb5",
   "metadata": {},
   "outputs": [
    {
     "ename": "TypeError",
     "evalue": "introduction() missing 1 required positional argument: 'lname'",
     "output_type": "error",
     "traceback": [
      "\u001b[0;31m---------------------------------------------------------------------------\u001b[0m",
      "\u001b[0;31mTypeError\u001b[0m                                 Traceback (most recent call last)",
      "Cell \u001b[0;32mIn [6], line 4\u001b[0m\n\u001b[1;32m      1\u001b[0m \u001b[38;5;28;01mdef\u001b[39;00m \u001b[38;5;21mintroduction\u001b[39m(fname, lname):\n\u001b[1;32m      2\u001b[0m   \u001b[38;5;28mprint\u001b[39m(\u001b[38;5;124m\"\u001b[39m\u001b[38;5;124mMy first name is \u001b[39m\u001b[38;5;124m\"\u001b[39m \u001b[38;5;241m+\u001b[39m fname \u001b[38;5;241m+\u001b[39m \u001b[38;5;124m\"\u001b[39m\u001b[38;5;124m and my last name is \u001b[39m\u001b[38;5;124m\"\u001b[39m \u001b[38;5;241m+\u001b[39m lname)\n\u001b[0;32m----> 4\u001b[0m \u001b[43mintroduction\u001b[49m\u001b[43m(\u001b[49m\u001b[38;5;124;43m\"\u001b[39;49m\u001b[38;5;124;43mSangeeta\u001b[39;49m\u001b[38;5;124;43m\"\u001b[39;49m\u001b[43m)\u001b[49m\n",
      "\u001b[0;31mTypeError\u001b[0m: introduction() missing 1 required positional argument: 'lname'"
     ]
    }
   ],
   "source": [
    "def introduction(fname, lname):\n",
    "  print(\"My first name is \" + fname + \" and my last name is \" + lname)\n",
    "\n",
    "introduction(\"Sangeeta\")"
   ]
  },
  {
   "cell_type": "code",
   "execution_count": 7,
   "id": "35d1bcf2-e5ef-4d1c-b0e1-db50e3f5ad41",
   "metadata": {},
   "outputs": [
    {
     "name": "stdout",
     "output_type": "stream",
     "text": [
      "My first name is Sangeeta and my last name is \n"
     ]
    }
   ],
   "source": [
    "def introduction(fname, lname = ''):\n",
    "  print(\"My first name is \" + fname + \" and my last name is \" + lname)\n",
    "\n",
    "introduction(\"Sangeeta\")"
   ]
  },
  {
   "cell_type": "markdown",
   "id": "d1e5b84b-1b21-44a7-a5bf-4db359af5243",
   "metadata": {},
   "source": [
    "# Return"
   ]
  },
  {
   "cell_type": "code",
   "execution_count": 8,
   "id": "436d9295-1fd7-492e-9baa-abe9d20b7e03",
   "metadata": {},
   "outputs": [
    {
     "name": "stdout",
     "output_type": "stream",
     "text": [
      "The sum is: None\n"
     ]
    }
   ],
   "source": [
    "def add_numbers(number_1, number_2):\n",
    "    sum = number_1 + number_2\n",
    "\n",
    "result = add_numbers(5, 3)\n",
    "print(\"The sum is:\", result)"
   ]
  },
  {
   "cell_type": "markdown",
   "id": "0765f031-49ed-4893-ad54-565da4f52a95",
   "metadata": {},
   "source": [
    "- the add_numbers function still computes the sum of the two numbers, but it doesn't explicitly return the result. As a result, when we print result, it outputs None because that's the default return value when no return statement is used."
   ]
  },
  {
   "cell_type": "code",
   "execution_count": 9,
   "id": "ec2e5792-ad9e-4d0a-9b60-cb8e3ff44e24",
   "metadata": {},
   "outputs": [
    {
     "name": "stdout",
     "output_type": "stream",
     "text": [
      "The sum is: 8\n"
     ]
    }
   ],
   "source": [
    "def add_numbers(number_1, number_2):\n",
    "    sum = number_1 + number_2\n",
    "    return sum\n",
    "\n",
    "result = add_numbers(5, 3)\n",
    "print(\"The sum is:\", result)"
   ]
  },
  {
   "cell_type": "markdown",
   "id": "2ff721c6-4d8d-4768-874c-7eec61896567",
   "metadata": {},
   "source": [
    "- In this example, the add_numbers function takes two numbers as input, performs the addition, and returns the sum using the return statement.\n",
    "- The calling code assigns the returned value to the variable result and prints it.\n",
    "- Without the return statement, the function would not produce any output that can be used outside of the function."
   ]
  },
  {
   "cell_type": "markdown",
   "id": "2de635c3-4479-4af7-8901-28e46cc37b73",
   "metadata": {},
   "source": [
    "Overall, the return statement is crucial in user-defined functions as it enables the functions to produce outputs, pass data, allow result reusability, handle conditional returns, and control the flow of the function's execution.\n",
    "\n",
    "Make a function in Python which take two numbers from user and perform add, sub mul, div"
   ]
  },
  {
   "cell_type": "code",
   "execution_count": 11,
   "id": "cdff1353-8c2b-4141-bf4e-c9167c01b683",
   "metadata": {},
   "outputs": [
    {
     "name": "stdin",
     "output_type": "stream",
     "text": [
      "Enter the first number:  10\n",
      "Enter the second number:  3\n"
     ]
    },
    {
     "name": "stdout",
     "output_type": "stream",
     "text": [
      "The sum is: 13.0\n",
      "The difference is: 7.0\n",
      "The product is: 30.0\n",
      "The quotient is: 3.3333333333333335\n"
     ]
    }
   ],
   "source": [
    "def My_Mini_Calculator():\n",
    "    number_1 = float(input(\"Enter the first number: \"))\n",
    "    number_2 = float(input(\"Enter the second number: \"))\n",
    "\n",
    "    # Addition\n",
    "    result = number_1 + number_2\n",
    "    print(\"The sum is:\", result)\n",
    "\n",
    "    # Subtraction\n",
    "    result = number_1 - number_2\n",
    "    print(\"The difference is:\", result)\n",
    "\n",
    "    # Multiplication\n",
    "    result = number_1 * number_2\n",
    "    print(\"The product is:\", result)\n",
    "\n",
    "    # Division\n",
    "    result = number_1 / number_2\n",
    "    print(\"The quotient is:\", result)\n",
    "    \n",
    "# Call the function\n",
    "My_Mini_Calculator()\n"
   ]
  },
  {
   "cell_type": "code",
   "execution_count": 14,
   "id": "9ae554bf-2f0d-43ef-acff-ce9b5e07ca43",
   "metadata": {},
   "outputs": [
    {
     "name": "stdin",
     "output_type": "stream",
     "text": [
      "Enter the first number:  5\n",
      "Enter the second number:  0\n"
     ]
    },
    {
     "name": "stdout",
     "output_type": "stream",
     "text": [
      "The sum is: 5.0\n",
      "The difference is: 5.0\n",
      "The product is: 0.0\n",
      "Oops there is an error: Division by zero is not allowed.\n"
     ]
    }
   ],
   "source": [
    "def My_Mini_Calculator():\n",
    "    number_1 = float(input(\"Enter the first number: \"))\n",
    "    number_2 = float(input(\"Enter the second number: \"))\n",
    "\n",
    "    # Addition\n",
    "    result = number_1 + number_2\n",
    "    print(\"The sum is:\", result)\n",
    "\n",
    "    # Subtraction\n",
    "    result = number_1 - number_2\n",
    "    print(\"The difference is:\", result)\n",
    "\n",
    "    # Multiplication\n",
    "    result = number_1 * number_2\n",
    "    print(\"The product is:\", result)\n",
    "\n",
    "    # Division\n",
    "    if number_2 != 0:\n",
    "        result = number_1 / number_2\n",
    "        print(\"The quotient is:\", result)\n",
    "    else:\n",
    "        print(\"Oops there is an error: Division by zero is not allowed.\")\n",
    "\n",
    "# Call the function\n",
    "My_Mini_Calculator()"
   ]
  },
  {
   "cell_type": "code",
   "execution_count": 15,
   "id": "62273679-d1fc-4a99-a493-52083f250e8c",
   "metadata": {},
   "outputs": [
    {
     "name": "stdin",
     "output_type": "stream",
     "text": [
      "Enter the first number:  4\n",
      "Enter the second number:  2\n"
     ]
    },
    {
     "name": "stdout",
     "output_type": "stream",
     "text": [
      "The sum is: 6.0\n",
      "The difference is: 2.0\n",
      "The product is: 8.0\n",
      "The quotient is: 2.0\n"
     ]
    }
   ],
   "source": [
    "def My_Mini_Calculator():\n",
    "    number_1 = float(input(\"Enter the first number: \"))\n",
    "    number_2 = float(input(\"Enter the second number: \"))\n",
    "\n",
    "    # Addition\n",
    "    add_result = number_1 + number_2\n",
    "\n",
    "    # Subtraction\n",
    "    diff_result = number_1 - number_2\n",
    "\n",
    "    # Multiplication\n",
    "    mult_result = number_1 * number_2\n",
    "\n",
    "    # Division\n",
    "    div_result = number_1 / number_2\n",
    "    \n",
    "    return {\n",
    "        \"Addition\": add_result,\n",
    "        \"Substraction\": diff_result,\n",
    "        \"Multiplication\": mult_result,\n",
    "        \"Division\": div_result,\n",
    "    }\n",
    "\n",
    "# Call the function\n",
    "results = My_Mini_Calculator()\n",
    "\n",
    "print(\"The sum is:\", results[\"Addition\"])\n",
    "print(\"The difference is:\", results[\"Substraction\"])\n",
    "print(\"The product is:\", results[\"Multiplication\"])\n",
    "print(\"The quotient is:\", results[\"Division\"])"
   ]
  },
  {
   "cell_type": "markdown",
   "id": "9230afc9-345d-480b-a5f5-60a22b2f5296",
   "metadata": {},
   "source": [
    "You can create a custom function in Python to accomplish the following:\n",
    "\n",
    "- Ask the user to enter 1st and last names, be careful about case sensitivity.\n",
    "- Print theoutput, need only to capitalize the first letter of the first name and last name."
   ]
  },
  {
   "cell_type": "code",
   "execution_count": 16,
   "id": "9a012ae1-d3ef-48d1-8a01-a482c3231894",
   "metadata": {},
   "outputs": [
    {
     "name": "stdin",
     "output_type": "stream",
     "text": [
      "Enter your first name:  sangeeta\n",
      "Enter your last name:  kalyanshetti\n"
     ]
    },
    {
     "name": "stdout",
     "output_type": "stream",
     "text": [
      "Candidate name is: Sangeeta Kalyanshetti\n"
     ]
    }
   ],
   "source": [
    "def format_name():\n",
    "    first_name = input(\"Enter your first name: \")\n",
    "    last_name = input(\"Enter your last name: \")\n",
    "\n",
    "    # Capitalize the first letter of the first name\n",
    "    formatted_first_name = first_name.capitalize()\n",
    "\n",
    "    # Capitalize the first letter of the last name\n",
    "    formatted_last_name = last_name.capitalize()\n",
    "\n",
    "    # Print the formatted name\n",
    "    print(\"Candidate name is:\", formatted_first_name, formatted_last_name)\n",
    "\n",
    "# Call the function\n",
    "format_name()\n"
   ]
  },
  {
   "cell_type": "markdown",
   "id": "7c1f3191-a118-4d3d-a383-5970c6639071",
   "metadata": {},
   "source": [
    "Create a Python programme that includes a user-defined function called print_even_numbers(). The function should prompt the user to set a range limit before printing all even numbers up to that limit."
   ]
  },
  {
   "cell_type": "code",
   "execution_count": 17,
   "id": "bf911b8f-34c4-4342-ad13-00cef1a61208",
   "metadata": {},
   "outputs": [
    {
     "name": "stdin",
     "output_type": "stream",
     "text": [
      "Enter the range limit:  10\n"
     ]
    },
    {
     "name": "stdout",
     "output_type": "stream",
     "text": [
      "Even numbers up to 10 are: [2, 4, 6, 8, 10]\n"
     ]
    }
   ],
   "source": [
    "def print_even_numbers():\n",
    "    n = int(input(\"Enter the range limit: \"))\n",
    "    even_numbers = []\n",
    "    for num in range(1, n + 1):\n",
    "        if num % 2 == 0:\n",
    "            even_numbers.append(num)\n",
    "\n",
    "    print(\"Even numbers up to\", n, \"are:\", even_numbers)\n",
    "\n",
    "# Call the function\n",
    "print_even_numbers()"
   ]
  },
  {
   "cell_type": "markdown",
   "id": "4e9bf303-9c11-46bc-a330-22fa7cf0097c",
   "metadata": {},
   "source": [
    "# Lambda Function"
   ]
  },
  {
   "cell_type": "markdown",
   "id": "070e6f76-b096-4448-b33a-3205081a3f0d",
   "metadata": {},
   "source": [
    "here are some key points about lambda functions in Python, each point is a one-liner:\n",
    "\n",
    "1. Lambda functions are small, anonymous functions defined with the lambda keyword.\n",
    "2. They can take any number of arguments but can only have one expression.\n",
    "3. The expression is evaluated and returned when the function is called.\n",
    "4. Lambda functions do not require a return statement, the expression is implicitly returned.\n",
    "5. They can be used wherever function objects are required, like inside functions like map(), filter(), and reduce().\n",
    "6. You can't include statements like loops, if, or else in lambda functions; only expressions are allowed.\n",
    "7. Lambda functions are useful for small tasks that are not reused throughout your code.\n",
    "8. They can be assigned to variables and used like regular functions."
   ]
  },
  {
   "cell_type": "code",
   "execution_count": 19,
   "id": "bf7649eb-efba-4077-8a3e-18bf0e67ef9c",
   "metadata": {},
   "outputs": [
    {
     "name": "stdout",
     "output_type": "stream",
     "text": [
      "8\n"
     ]
    }
   ],
   "source": [
    "# lambda arguments: expression\n",
    "\n",
    "add = lambda x, y: x + y\n",
    "print(add(5, 3))  # Output: 8\n"
   ]
  },
  {
   "cell_type": "code",
   "execution_count": 20,
   "id": "f2e67d51-ffa8-4e52-99d2-2adef637082e",
   "metadata": {},
   "outputs": [
    {
     "name": "stdout",
     "output_type": "stream",
     "text": [
      "16\n"
     ]
    }
   ],
   "source": [
    "# Define a lambda function that takes three arguments and returns their sum\n",
    "add_three_numbers = lambda x, y, z: x + y + z\n",
    "\n",
    "# Use the lambda function\n",
    "result = add_three_numbers(5, 3, 8)\n",
    "print(result)  # Output: 16"
   ]
  },
  {
   "cell_type": "code",
   "execution_count": 21,
   "id": "f9464fb2-81a5-4398-8f0d-0011983f7f78",
   "metadata": {},
   "outputs": [
    {
     "name": "stdout",
     "output_type": "stream",
     "text": [
      "25\n"
     ]
    }
   ],
   "source": [
    "square = lambda x: x ** 2\n",
    "print(square(5))  # Output: 25"
   ]
  },
  {
   "cell_type": "code",
   "execution_count": 22,
   "id": "85bcdb26-cc5c-424b-a671-94948e47b4f9",
   "metadata": {},
   "outputs": [
    {
     "name": "stdout",
     "output_type": "stream",
     "text": [
      "Hello World\n"
     ]
    }
   ],
   "source": [
    "concat = lambda x, y: x + y\n",
    "print(concat(\"Hello\", \" World\"))  # Output: \"Hello World\"\n"
   ]
  },
  {
   "cell_type": "code",
   "execution_count": 23,
   "id": "de9ceada-323f-45ce-9559-5b64556dea37",
   "metadata": {},
   "outputs": [
    {
     "name": "stdout",
     "output_type": "stream",
     "text": [
      "odd\n"
     ]
    }
   ],
   "source": [
    "even_or_odd = lambda x: 'even' if x%2==0 else 'odd'\n",
    "print(even_or_odd(7))  # Output: 'odd'\n"
   ]
  },
  {
   "cell_type": "code",
   "execution_count": 24,
   "id": "5c8909bc-6b9f-4e62-be9a-c13975bd2046",
   "metadata": {},
   "outputs": [
    {
     "name": "stdout",
     "output_type": "stream",
     "text": [
      "10\n"
     ]
    }
   ],
   "source": [
    "max_num = lambda x, y: x if x > y else y\n",
    "print(max_num(5, 10))  # Output: 10\n"
   ]
  },
  {
   "cell_type": "code",
   "execution_count": 25,
   "id": "9b308433-875c-4c4e-8965-c4801f83b31e",
   "metadata": {},
   "outputs": [
    {
     "name": "stdin",
     "output_type": "stream",
     "text": [
      "Enter first number:  10\n",
      "Enter second number:  20\n"
     ]
    },
    {
     "name": "stdout",
     "output_type": "stream",
     "text": [
      "30\n"
     ]
    }
   ],
   "source": [
    "add = lambda a, b: a + b\n",
    "num1 = int(input(\"Enter first number: \"))\n",
    "num2 = int(input(\"Enter second number: \"))\n",
    "print(add(num1, num2))\n"
   ]
  },
  {
   "cell_type": "code",
   "execution_count": 26,
   "id": "bb494a7a-44d6-4156-8fd5-64d8ae677190",
   "metadata": {},
   "outputs": [
    {
     "name": "stdin",
     "output_type": "stream",
     "text": [
      "Enter first number:  10\n",
      "Enter second number:  20\n"
     ]
    },
    {
     "name": "stdout",
     "output_type": "stream",
     "text": [
      "30\n"
     ]
    }
   ],
   "source": [
    "add = lambda: int(input(\"Enter first number: \")) + int(input(\"Enter second number: \"))\n",
    "print(add())\n"
   ]
  },
  {
   "cell_type": "code",
   "execution_count": 27,
   "id": "d89588e6-a6a0-44cd-aad2-6bb16ea0df95",
   "metadata": {},
   "outputs": [
    {
     "name": "stdout",
     "output_type": "stream",
     "text": [
      "[1, 4, 9, 16, 25]\n"
     ]
    }
   ],
   "source": [
    "lambda_function = lambda x: [i ** 2 for i in x]\n",
    "print(lambda_function([1, 2, 3, 4, 5]))  # Output: [1, 4, 9, 16, 25]\n"
   ]
  },
  {
   "cell_type": "markdown",
   "id": "389191cd-927f-4afd-8851-a447e74ecaba",
   "metadata": {},
   "source": [
    "- Lambda functions are especially useful when you want to define a small function to pass as an argument to another function.\n",
    "- They're often used with functions like map(), filter(), reduce(), and sorted().\n",
    "\n",
    "Let's take a real-world use case involving sorting:\n",
    "\n",
    "- Consider you have a list of dictionaries, where each dictionary represents a product with a name and a price. You want to sort this list of products based on the price.\n"
   ]
  },
  {
   "cell_type": "code",
   "execution_count": 28,
   "id": "8af55e30-54a6-4aa4-86af-2f8ab174d2cc",
   "metadata": {},
   "outputs": [
    {
     "name": "stdout",
     "output_type": "stream",
     "text": [
      "{'name': 'Product4', 'price': 20}\n",
      "{'name': 'Product2', 'price': 30}\n",
      "{'name': 'Product3', 'price': 40}\n",
      "{'name': 'Product1', 'price': 50}\n"
     ]
    }
   ],
   "source": [
    "# A list of dictionaries is created, where each dictionary represents a product. \n",
    "# Each product has two properties: 'name' and 'price'.\n",
    "\n",
    "products = [\n",
    "    {'name': 'Product1', 'price': 50},\n",
    "    {'name': 'Product2', 'price': 30},\n",
    "    {'name': 'Product3', 'price': 40},\n",
    "    {'name': 'Product4', 'price': 20},\n",
    "]\n",
    "\n",
    "# The products list and a lambda function are passed to the sorted() method. \n",
    "# The sorted() function's key parameter accepts a function as an argument. \n",
    "# This function generates a'sorting key' for each entry in the list.\n",
    "\n",
    "# In this case, the lambda function lambda x: x['price'] takes an argument (a dictionary) and returns the value of its 'price' key. \n",
    "# These pricing values are used by the sorted() method to compare products and determine their rank in the sorted list.\n",
    "\n",
    "sorted_products = sorted(products, key=lambda x: x['price'])\n",
    "\n",
    "for product in sorted_products:\n",
    "    print(product)"
   ]
  },
  {
   "cell_type": "markdown",
   "id": "2667eb8e-4222-40c0-aee0-f1317c67012a",
   "metadata": {},
   "source": [
    "# Recursion"
   ]
  },
  {
   "cell_type": "markdown",
   "id": "e005f91b-23c0-461c-8440-5b695f92bd4e",
   "metadata": {},
   "source": [
    "Recursion refers to the programming technique in which a function defines itself by calling itself. Here are a few highlights:\n",
    "\n",
    "- Recursion occurs when a function calls itself while providing a different input for each consecutive call.\n",
    "- Base Case: To prevent unbounded recursion, every recursive function should have a base case, which is a condition under which it stops invoking itself.\n",
    "- The execution context or state of each recursive call is different. The current values of a function's parameters and variables are placed onto the call stack when it calls itself.\n",
    "- Problem-Solving: Recursion is frequently used to solve problems that can be divided into smaller, simpler problems of the same type.\n",
    "- Memory: Because recursive functions must retain stack frames for all recursive calls, they consume more memory than iterative versions.\n",
    "- Efficiency: Because of the complexity of maintaining the stack, recursive functions can be less efficient and can result in a stack overflow for deep recursion.\n",
    "- Readability: Despite potential inefficiencies, recursion can result in easier-to-read and write code for certain issues, such as traversing tree-like data structures, sorting algorithms (such as quicksort and mergesort), solving Tower of Hanoi, Fibonacci series, and so on.\n",
    "- Remember that recursion is a tool, and whether or not to utilise it depends on the particular problem you're attempting to solve. Some issues lend themselves nicely to recursive solutions, while others may benefit from an iterative approach."
   ]
  },
  {
   "cell_type": "code",
   "execution_count": 29,
   "id": "9ed2ca03-5058-4208-a07f-9ec0efada412",
   "metadata": {},
   "outputs": [
    {
     "name": "stdout",
     "output_type": "stream",
     "text": [
      "78\n"
     ]
    }
   ],
   "source": [
    "def recursive_sum(n):\n",
    "    # Base case\n",
    "    if n == 1:\n",
    "        return 1\n",
    "    # Recursive case\n",
    "    else:\n",
    "        return n + recursive_sum(n - 1)\n",
    "\n",
    "print(recursive_sum(12))  "
   ]
  },
  {
   "cell_type": "code",
   "execution_count": 31,
   "id": "ee12fa72-6b3a-449e-b9b9-d01f8a664c65",
   "metadata": {},
   "outputs": [],
   "source": [
    "def factorial(n):\n",
    "    # Base case: 1! = 1\n",
    "    if n == 1:\n",
    "        return 1\n",
    "    # Recursive case: n! = n * (n-1)!\n",
    "    else:\n",
    "        return n * factorial(n-1)"
   ]
  },
  {
   "cell_type": "markdown",
   "id": "7d39080b-bede-4f4f-aade-ad506ac2ae10",
   "metadata": {},
   "source": [
    "The Fibonacci sequence is a set of numbers in which each number is the sum of the two numbers before it. It usually starts with 0 and 1. In certain variants, it begins with two 1's.\n",
    "\n",
    "Here's the beginning of the Fibonacci sequence:\n",
    "\n",
    "0, 1, 1, 2, 3, 5, 8, 13, 21, ...\n",
    "\n",
    "You can see the pattern:\n",
    "\n",
    "- 0 + 1 = 1\n",
    "- 1 + 1 = 2\n",
    "- 1 + 2 = 3\n",
    "- 2 + 3 = 5\n",
    "- 3 + 5 = 8\n",
    "- ...\n",
    "Each number is the sum of the two numbers before it."
   ]
  },
  {
   "cell_type": "code",
   "execution_count": 33,
   "id": "ff3badc3-fb1f-4020-8acb-abea5224200a",
   "metadata": {},
   "outputs": [
    {
     "name": "stdout",
     "output_type": "stream",
     "text": [
      "0\n",
      "1\n",
      "1\n",
      "2\n",
      "3\n",
      "5\n",
      "8\n"
     ]
    }
   ],
   "source": [
    "def my_fibonacci(n):\n",
    "    a, b = 0, 1\n",
    "    for i in range(n):\n",
    "        print(a)\n",
    "        a, b = b, a + b\n",
    "\n",
    "my_fibonacci(7)"
   ]
  },
  {
   "cell_type": "code",
   "execution_count": 34,
   "id": "ca6e6183-a356-42e3-8ca2-42aa4a366c01",
   "metadata": {},
   "outputs": [
    {
     "name": "stdout",
     "output_type": "stream",
     "text": [
      "Step 1: Our Fibonacci series up to n-1 terms = [0, 1]\n",
      "Step 2: Next term to add = 1\n",
      "Step 3: Our Fibonacci series after adding next term = [0, 1, 1]\n",
      "Step 4: Our Fibonacci series up to n-1 terms = [0, 1, 1]\n",
      "Step 5: Next term to add = 2\n",
      "Step 6: Our Fibonacci series after adding next term = [0, 1, 1, 2]\n",
      "So my final Fibonacci series is --->  [0, 1, 1, 2]\n"
     ]
    }
   ],
   "source": [
    "# We need to have a counter\n",
    "cnt = 1 # This is a counter, because to explain each step. Nothing more than it.\n",
    "\n",
    "def my_fibonacci(n):\n",
    "    global cnt\n",
    "\n",
    "    if n <= 0:\n",
    "        return []\n",
    "    elif n == 1:\n",
    "        return [0]\n",
    "    elif n == 2:\n",
    "        return [0, 1]\n",
    "    else:\n",
    "        fibonacci_series = my_fibonacci(n - 1)\n",
    "        print(f\"Step {cnt}: Our Fibonacci series up to n-1 terms = {fibonacci_series}\")\n",
    "        cnt += 1\n",
    "        next_term = fibonacci_series[-1] + fibonacci_series[-2]\n",
    "        print(f\"Step {cnt}: Next term to add = {next_term}\")\n",
    "        cnt += 1\n",
    "        fibonacci_series.append(next_term)\n",
    "        print(f\"Step {cnt}: Our Fibonacci series after adding next term = {fibonacci_series}\")\n",
    "        cnt += 1\n",
    "        return fibonacci_series\n",
    "\n",
    "print(\"So my final Fibonacci series is ---> \", my_fibonacci(4))\n"
   ]
  },
  {
   "cell_type": "markdown",
   "id": "3a5ca81a-9e2b-4f78-817f-a5e24519accd",
   "metadata": {},
   "source": [
    "# Explanation:\n",
    "\n",
    "Step 1: def my_fibonacci(n): - Defines a function my_fibonacci taking one argument n.\n",
    "\n",
    "Step 2: if n <= 0: - Checks if n is 0 or less. Skips as n=4.\n",
    "\n",
    "Step 3: elif n == 1: - Checks if n equals 1. Skips as n=4.\n",
    "\n",
    "Step 4: elif n == 2: - Checks if n equals 2. Skips as n=4.\n",
    "\n",
    "Step 5: else: - As n is not 0, 1, or 2, enters the else block.\n",
    "\n",
    "Step 6: fibonacci_series = my_fibonacci(n - 1) - Calls my_fibonacci(3) which gives [0, 1, 1].\n",
    "\n",
    "Step 7: fibonacci_series.append(fibonacci_series[-1] + fibonacci_series[-2]) - Appends the sum of last two elements in fib_series to the list. The list becomes [0, 1, 1, 2].\n",
    "\n",
    "Setp 8: return fibonacci_series - Returns the final list [0, 1, 1, 2] when my_fibonacci(4) is called."
   ]
  },
  {
   "cell_type": "code",
   "execution_count": null,
   "id": "0d574475-a015-4131-91c1-138ec46501b4",
   "metadata": {},
   "outputs": [],
   "source": []
  }
 ],
 "metadata": {
  "kernelspec": {
   "display_name": "Python 3 (ipykernel)",
   "language": "python",
   "name": "python3"
  },
  "language_info": {
   "codemirror_mode": {
    "name": "ipython",
    "version": 3
   },
   "file_extension": ".py",
   "mimetype": "text/x-python",
   "name": "python",
   "nbconvert_exporter": "python",
   "pygments_lexer": "ipython3",
   "version": "3.10.6"
  }
 },
 "nbformat": 4,
 "nbformat_minor": 5
}
