{
 "cells": [
  {
   "cell_type": "markdown",
   "metadata": {},
   "source": [
    "# Keywords in Python\n"
   ]
  },
  {
   "cell_type": "markdown",
   "metadata": {},
   "source": [
    "Here are the key points related to keywords in Python:\n",
    "\n",
    "Definition: Keywords in Python are reserved words that cannot be used as ordinary identifiers. They are used to define the syntax and structure of the Python language.\n",
    "\n",
    "Immutability: Keywords are immutable. This means their meaning and definition can't be altered.\n",
    "\n",
    "Case Sensitivity: Keywords are case-sensitive. For example, True is a valid keyword, but true is not.\n",
    "\n",
    "Total Number: As of Python 3.9, there are 35 keywords.\n",
    "\n",
    "List of Keywords: The complete list of Python keywords are False, None, True, and, as, assert, async, await, break, class, continue, def, del, elif, else, except, finally, for, from, global, if, import, in, is, lambda, nonlocal, not, or, pass, raise, return, try, while, with, yield.\n",
    "\n",
    "Special Keywords: async and await are used for handling asynchronous processing, and they became keywords in Python 3.7.\n",
    "\n",
    "Usage: Each keyword has a specific meaning and usage in Python programming. For instance, def is used for defining functions, if is used for making conditional statements, for and while are used for loops, class is used for defining a class, and so on.\n",
    "\n",
    "Identifying Keywords: You can get the list of all keywords in Python by using the following code:"
   ]
  },
  {
   "cell_type": "markdown",
   "metadata": {},
   "source": [
    "`[Tip]: To execute the Python code in the code cell below, click on the cell to select it and press Shift + Enter.`"
   ]
  },
  {
   "cell_type": "markdown",
   "metadata": {},
   "source": [
    "To write comments in Python, use the number symbol `#` before writing your comment. When you run your code, Python will ignore everything past the # on a given line.\n"
   ]
  },
  {
   "cell_type": "code",
   "execution_count": 2,
   "metadata": {},
   "outputs": [
    {
     "name": "stdout",
     "output_type": "stream",
     "text": [
      "Hello!\n"
     ]
    }
   ],
   "source": [
    "# Try your first python code\n",
    "\n",
    "print('Hello!')"
   ]
  },
  {
   "cell_type": "code",
   "execution_count": 3,
   "metadata": {},
   "outputs": [
    {
     "name": "stdout",
     "output_type": "stream",
     "text": [
      "['False', 'None', 'True', 'and', 'as', 'assert', 'async', 'await', 'break', 'class', 'continue', 'def', 'del', 'elif', 'else', 'except', 'finally', 'for', 'from', 'global', 'if', 'import', 'in', 'is', 'lambda', 'nonlocal', 'not', 'or', 'pass', 'raise', 'return', 'try', 'while', 'with', 'yield']\n"
     ]
    }
   ],
   "source": [
    "# instal package \"keyword\" to check how many keywords are there\n",
    "# pip install keyword\n",
    "\n",
    "# load package\n",
    "import keyword\n",
    "\n",
    "# display all keywords\n",
    "print(keyword.kwlist)"
   ]
  },
  {
   "cell_type": "code",
   "execution_count": 4,
   "metadata": {},
   "outputs": [
    {
     "data": {
      "text/plain": [
       "'/home/jovyan/work'"
      ]
     },
     "execution_count": 4,
     "metadata": {},
     "output_type": "execute_result"
    }
   ],
   "source": [
    "# To check current working directory\n",
    "%pwd"
   ]
  },
  {
   "cell_type": "code",
   "execution_count": 14,
   "metadata": {},
   "outputs": [
    {
     "name": "stdout",
     "output_type": "stream",
     "text": [
      "3.10.6 | packaged by conda-forge | (main, Aug 22 2022, 20:35:26) [GCC 10.4.0]\n"
     ]
    }
   ],
   "source": [
    "# Check the Python Version\n",
    "\n",
    "import sys\n",
    "print(sys.version)"
   ]
  },
  {
   "cell_type": "code",
   "execution_count": 5,
   "metadata": {},
   "outputs": [
    {
     "ename": "SyntaxError",
     "evalue": "invalid syntax (1080849216.py, line 3)",
     "output_type": "error",
     "traceback": [
      "\u001b[0;36m  Cell \u001b[0;32mIn [5], line 3\u001b[0;36m\u001b[0m\n\u001b[0;31m    class = 10     # 'class' is a reserved keyword\u001b[0m\n\u001b[0m          ^\u001b[0m\n\u001b[0;31mSyntaxError\u001b[0m\u001b[0;31m:\u001b[0m invalid syntax\n"
     ]
    }
   ],
   "source": [
    "# Incorrect use of keywords as variable names\n",
    "\n",
    "class = 10     # 'class' is a reserved keyword\n",
    "return = 5     # 'return' is a reserved keyword\n",
    "if = \"hello\"   # 'if' is a reserved keyword\n",
    "else = 3.14    # 'else' is a reserved keyword\n",
    "\n",
    "print(class, return, if, else)\n"
   ]
  },
  {
   "cell_type": "code",
   "execution_count": 6,
   "metadata": {},
   "outputs": [
    {
     "name": "stdout",
     "output_type": "stream",
     "text": [
      "10 5 hello 3.14\n"
     ]
    }
   ],
   "source": [
    "# Correct use of variable names\n",
    "\n",
    "class_number = 10\n",
    "return_value = 5\n",
    "if_string = \"hello\"\n",
    "else_number = 3.14\n",
    "\n",
    "print(class_number, return_value, if_string, else_number)"
   ]
  },
  {
   "cell_type": "markdown",
   "metadata": {},
   "source": [
    "# Identifiers"
   ]
  },
  {
   "cell_type": "markdown",
   "metadata": {},
   "source": [
    "Here are the key points related to identifiers in Python:\n",
    "\n",
    "Definition: An identifier is a name given to entities like class, functions, variables, etc. It helps to differentiate one entity from another.\n",
    "\n",
    "Syntax: Identifiers can be a combination of letters in lowercase (a to z) or uppercase (A to Z) or digits (0 to 9) or an underscore (_).\n",
    "\n",
    "No digits: They must start with a letter or the underscore character, but not with a digit.\n",
    "\n",
    "Case-Sensitive: Identifiers in Python are case-sensitive. For example, myVariable and myvariable are two different identifiers in Python.\n",
    "\n",
    "No Special Characters: Identifiers cannot have special characters such as !, @, #, $, %, etc.\n",
    "\n",
    "Reserved Words: Python keywords cannot be used as identifiers. Words like for, while, break, continue, in, elif, else, import, from, pass, return, etc. are reserved words. You can view all keywords in your current version by typing help(\"keywords\") in the Python interpreter.\n",
    "\n",
    "Unlimited Length: Python does not put any restriction on the length of the identifier. However, it's recommended to keep it within a reasonable size, to maintain readability and simplicity in the code.\n",
    "\n",
    "Private Identifiers: In Python, if the identifier starts with a single underscore, it indicates that it is a non-public part of the class, module, or function. This is just a convention and Python doesn't enforce it. If it starts with two underscores, it's a strongly private identifier. If the identifier also ends with two trailing underscores, the identifier is a language-defined special name.\n",
    "\n",
    "Non-ASCII Identifiers: Python 3 allows the use of non-ASCII letters in the identifiers. This means you can use letters like é, ñ, ö, я, etc. in your identifiers if you wish."
   ]
  },
  {
   "cell_type": "code",
   "execution_count": 15,
   "metadata": {},
   "outputs": [
    {
     "name": "stdout",
     "output_type": "stream",
     "text": [
      "5 10 Hello, Everyone!\n"
     ]
    }
   ],
   "source": [
    "num1 = 5\n",
    "_value = 10\n",
    "text_string = 'Hello, Everyone!'\n",
    "print(num1, _value, text_string)"
   ]
  },
  {
   "cell_type": "code",
   "execution_count": 16,
   "metadata": {},
   "outputs": [
    {
     "name": "stdout",
     "output_type": "stream",
     "text": [
      "30\n"
     ]
    }
   ],
   "source": [
    "_1a = 10\n",
    "_1b = 20\n",
    "c = _1a + _1b\n",
    "print(c)"
   ]
  },
  {
   "cell_type": "code",
   "execution_count": 17,
   "metadata": {},
   "outputs": [
    {
     "name": "stdout",
     "output_type": "stream",
     "text": [
      "lowercase UPPERCASE\n"
     ]
    }
   ],
   "source": [
    "my_var = 'lowercase'\n",
    "MY_VAR = 'UPPERCASE'\n",
    "print(my_var, MY_VAR)"
   ]
  },
  {
   "cell_type": "markdown",
   "metadata": {},
   "source": [
    "# Comments"
   ]
  },
  {
   "cell_type": "markdown",
   "metadata": {},
   "source": [
    "Here are some key points about comments in Python:\n",
    "\n",
    "1. Definition: A comment in Python is a piece of text in your code that is not executed. It's typically used to explain what the code is doing or leave notes for developers who will be reading or maintaining the code.\n",
    "\n",
    "2. Single-Line Comments: Python uses the hash symbol (#) to denote a comment. Any text following the # on the same line will be ignored by the Python interpreter. \n",
    "\n",
    "3. Multi-Line Comments: Python does not have a specific syntax for multi-line comments. Developers typically use a single # for each line to create multi-line comments. Alternatively, multi-line strings using triple quotes (''' or \"\"\") can also be used as multi-line comments because any string not assigned to a variable is ignored by Python.\n",
    "\n",
    "4. Docstrings or documentation strings: Docstrings are a type of comment used to explain the purpose of a function or a class. They are created using triple quotes and are placed immediately after the definition of a function or a class. Docstrings can span multiple lines and are accessible at runtime using the .__doc__ attribute."
   ]
  },
  {
   "cell_type": "code",
   "execution_count": 18,
   "metadata": {},
   "outputs": [],
   "source": [
    "# This is a comment in Python\n",
    "x = 5  # This is an inline comment"
   ]
  },
  {
   "cell_type": "code",
   "execution_count": 19,
   "metadata": {},
   "outputs": [
    {
     "name": "stdout",
     "output_type": "stream",
     "text": [
      "8\n"
     ]
    }
   ],
   "source": [
    "# This is a multi-line comment\n",
    "# We are adding two numbers a and b.\n",
    "a = 5\n",
    "b = 3\n",
    "c = a + b\n",
    "print(c)"
   ]
  },
  {
   "cell_type": "code",
   "execution_count": 4,
   "metadata": {},
   "outputs": [],
   "source": [
    "# create a function\n",
    "def addition(a, b):\n",
    "    '''\n",
    "    This is a function is to perform addition operation\n",
    "    '''\n",
    "    print('Performing addition operation')\n",
    "    output = a + b\n",
    "    print(f'{a} + {b} is =', output)\n",
    "    return output"
   ]
  },
  {
   "cell_type": "code",
   "execution_count": 22,
   "metadata": {},
   "outputs": [],
   "source": [
    "# Docstring Example\n",
    "def add_numbers(a, b):\n",
    "    \"\"\"\n",
    "    This function adds two numbers and returns the result.\n",
    "    \n",
    "    Parameters:\n",
    "    a (int): The first number\n",
    "    b (int): The second number\n",
    "\n",
    "    Returns:\n",
    "    int: The sum of the two numbers\n",
    "    \"\"\"\n",
    "    return a + b\n"
   ]
  },
  {
   "cell_type": "code",
   "execution_count": 23,
   "metadata": {},
   "outputs": [
    {
     "name": "stdout",
     "output_type": "stream",
     "text": [
      "\n",
      "    This function adds two numbers and returns the result.\n",
      "    \n",
      "    Parameters:\n",
      "    a (int): The first number\n",
      "    b (int): The second number\n",
      "\n",
      "    Returns:\n",
      "    int: The sum of the two numbers\n",
      "    \n"
     ]
    }
   ],
   "source": [
    "# You can access this docstring using the .__doc__ attribute.\n",
    "# Here's how:\n",
    "print(add_numbers.__doc__)"
   ]
  },
  {
   "cell_type": "code",
   "execution_count": 24,
   "metadata": {},
   "outputs": [
    {
     "ename": "SyntaxError",
     "evalue": "invalid decimal literal (970061274.py, line 3)",
     "output_type": "error",
     "traceback": [
      "\u001b[0;36m  Cell \u001b[0;32mIn [24], line 3\u001b[0;36m\u001b[0m\n\u001b[0;31m    1variable = 10      # Identifier starts with a digit\u001b[0m\n\u001b[0m    ^\u001b[0m\n\u001b[0;31mSyntaxError\u001b[0m\u001b[0;31m:\u001b[0m invalid decimal literal\n"
     ]
    }
   ],
   "source": [
    "# Incorrect use of identifiers\n",
    "\n",
    "1variable = 10      # Identifier starts with a digit\n",
    "$second = 20        # Identifier contains special character\n",
    "third variable = 30 # Identifier contains a space\n",
    "for = 40            # Identifier is a reserved keyword\n",
    "\n",
    "print(1variable, $second, third variable, for)"
   ]
  },
  {
   "cell_type": "code",
   "execution_count": 25,
   "metadata": {},
   "outputs": [
    {
     "name": "stdout",
     "output_type": "stream",
     "text": [
      "10 20 30 40\n"
     ]
    }
   ],
   "source": [
    "# Correct use of identifiers\n",
    "\n",
    "variable1 = 10\n",
    "second_variable = 20\n",
    "third_variable = 30\n",
    "variable_for = 40\n",
    "\n",
    "print(variable1, second_variable, third_variable, variable_for)"
   ]
  },
  {
   "cell_type": "markdown",
   "metadata": {},
   "source": [
    "# Indentation"
   ]
  },
  {
   "cell_type": "markdown",
   "metadata": {},
   "source": [
    "Indentation\n",
    "\n",
    "1. Importance: In Python, indentation is not just for readability. \n",
    "It's a part of the syntax and is used to indicate a block of code.\n",
    "\n",
    "2. Space Usage: Python uses indentation to define the scope of loops, functions, classes, etc. \n",
    "The standard practice is to use four spaces for each level of indentation, but you can use any number of spaces, \n",
    "as long as the indentation is consistent within a block of code.\n",
    "\n",
    "3. Colon: Usually, a colon (:) at the end of the line is followed by an indented block of code. \n",
    "This is common with structures like if, for, while, def, class, etc."
   ]
  },
  {
   "cell_type": "code",
   "execution_count": 29,
   "metadata": {},
   "outputs": [],
   "source": [
    "def say_hello():\n",
    "    print(\"Hello, Eeveryone!\")"
   ]
  },
  {
   "cell_type": "code",
   "execution_count": 30,
   "metadata": {},
   "outputs": [
    {
     "ename": "IndentationError",
     "evalue": "expected an indented block after 'if' statement on line 3 (1641452428.py, line 4)",
     "output_type": "error",
     "traceback": [
      "\u001b[0;36m  Cell \u001b[0;32mIn [30], line 4\u001b[0;36m\u001b[0m\n\u001b[0;31m    print(\"This is True!\") # Error: expected an indented block\u001b[0m\n\u001b[0m    ^\u001b[0m\n\u001b[0;31mIndentationError\u001b[0m\u001b[0;31m:\u001b[0m expected an indented block after 'if' statement on line 3\n"
     ]
    }
   ],
   "source": [
    "# Incorrect use of indentation\n",
    "\n",
    "if True:\n",
    "print(\"This is True!\") # Error: expected an indented block\n",
    "\n",
    "for i in range(3):\n",
    "print(i) # Error: expected an indented block\n",
    "\n",
    "def hello():\n",
    "print(\"Hello, World!\") # Error: expected an indented block\n",
    "\n",
    "while False:\n",
    "print(\"This won't print\") # Error: expected an indented block"
   ]
  },
  {
   "cell_type": "code",
   "execution_count": 31,
   "metadata": {},
   "outputs": [
    {
     "name": "stdout",
     "output_type": "stream",
     "text": [
      "This is True!\n",
      "0\n",
      "1\n",
      "2\n"
     ]
    }
   ],
   "source": [
    "# Correct use of indentation\n",
    "\n",
    "if True:\n",
    "    print(\"This is True!\") \n",
    "\n",
    "for i in range(3):\n",
    "    print(i) \n",
    "\n",
    "def hello():\n",
    "    print(\"Hello, World!\") \n",
    "\n",
    "while False:\n",
    "    print(\"This won't print\") \n"
   ]
  },
  {
   "cell_type": "markdown",
   "metadata": {},
   "source": [
    "# Statements"
   ]
  },
  {
   "cell_type": "markdown",
   "metadata": {},
   "source": [
    "1. Definition: A statement in Python is a logical instruction that the Python interpreter can read and execute. In general, a statement performs some action or action.\n",
    "\n",
    "2. Types: Python includes several types of statements including assignment statements, conditional statements, looping statements, etc."
   ]
  },
  {
   "cell_type": "code",
   "execution_count": 32,
   "metadata": {},
   "outputs": [
    {
     "name": "stdout",
     "output_type": "stream",
     "text": [
      "Positive number\n"
     ]
    }
   ],
   "source": [
    "# Conditional Statement\n",
    "x = 2\n",
    "if x > 0:\n",
    "    print(\"Positive number\")"
   ]
  },
  {
   "cell_type": "code",
   "execution_count": 33,
   "metadata": {},
   "outputs": [
    {
     "name": "stdout",
     "output_type": "stream",
     "text": [
      "0\n",
      "1\n",
      "2\n",
      "3\n",
      "4\n"
     ]
    }
   ],
   "source": [
    "#\n",
    "for i in range(5):\n",
    "    print(i)"
   ]
  },
  {
   "cell_type": "markdown",
   "metadata": {},
   "source": [
    "Multi-Line Statements: In Python, end of a statement is marked by a newline character. But we can make a statement extend over multiple lines with the line continuation character (\\), or within parentheses (), brackets [], braces {}, or strings. You can also write multiple statements on a single line using semicolons (;)"
   ]
  },
  {
   "cell_type": "code",
   "execution_count": 35,
   "metadata": {},
   "outputs": [
    {
     "name": "stdout",
     "output_type": "stream",
     "text": [
      "15\n"
     ]
    }
   ],
   "source": [
    "# Multi-Line Statements\n",
    "# Using line continuation character\n",
    "s = 1 + 2 + 3 + \\\n",
    "    4 + 5\n",
    "\n",
    "# Using parentheses\n",
    "s = (1 + 2 + 3 +\n",
    "     4 + 5)\n",
    "\n",
    "# Multiple Statements on a Single Line\n",
    "x = 5; y = 10; print(x + y)"
   ]
  },
  {
   "cell_type": "markdown",
   "metadata": {},
   "source": [
    "# Variables"
   ]
  },
  {
   "cell_type": "markdown",
   "metadata": {},
   "source": [
    "Definition: In Python, a variable is a named location used to store data in memory.\n",
    "\n",
    "Declaration and Assignment: Variables are declared by writing the variable name and assigning it a value using the equals sign (=). For example:"
   ]
  },
  {
   "cell_type": "code",
   "execution_count": 36,
   "metadata": {},
   "outputs": [],
   "source": [
    "a = 5\n",
    "st = \"hello\""
   ]
  },
  {
   "cell_type": "markdown",
   "metadata": {},
   "source": [
    "Dynamic Typing: Python is dynamically typed, which means that you don't have to declare the type of a variable when you create one. You can even change the type of data held by a variable at any time."
   ]
  },
  {
   "cell_type": "code",
   "execution_count": 38,
   "metadata": {},
   "outputs": [],
   "source": [
    "x = 5   # x is an integer\n",
    "x = \"Hello\"  # now x is a string"
   ]
  },
  {
   "cell_type": "markdown",
   "metadata": {},
   "source": [
    "# Data types in Python"
   ]
  },
  {
   "cell_type": "markdown",
   "metadata": {},
   "source": [
    "Integers: Integers are whole numbers, without a fractional component. They can be positive or negative."
   ]
  },
  {
   "cell_type": "code",
   "execution_count": 39,
   "metadata": {},
   "outputs": [],
   "source": [
    "x = 10\n",
    "y = -3"
   ]
  },
  {
   "cell_type": "markdown",
   "metadata": {},
   "source": [
    "Floats: Floats represent real numbers and are written with a decimal point."
   ]
  },
  {
   "cell_type": "code",
   "execution_count": 40,
   "metadata": {},
   "outputs": [],
   "source": [
    "x = 10.0\n",
    "y = -3.14"
   ]
  },
  {
   "cell_type": "markdown",
   "metadata": {},
   "source": [
    "Strings: Strings in Python are sequences of character data. They are created by enclosing characters in quotes."
   ]
  },
  {
   "cell_type": "code",
   "execution_count": 41,
   "metadata": {},
   "outputs": [
    {
     "name": "stdout",
     "output_type": "stream",
     "text": [
      "Hello, World!\n"
     ]
    }
   ],
   "source": [
    "s = \"Hello, World!\"\n",
    "print(s)"
   ]
  },
  {
   "cell_type": "markdown",
   "metadata": {},
   "source": [
    "Lists\n",
    "\n",
    "Definition: A list in Python is an ordered collection (also known as a sequence) of items. Lists are similar to arrays in other languages, but with additional functionality.\n",
    "\n",
    "Mutable: Lists are mutable, which means their elements can be changed (added, modified, or deleted) after they are created.\n",
    "\n",
    "Creation: A list is created by placing items (elements) inside square brackets [], separated by commas."
   ]
  },
  {
   "cell_type": "code",
   "execution_count": 1,
   "metadata": {},
   "outputs": [
    {
     "name": "stdout",
     "output_type": "stream",
     "text": [
      "['apple', 'banana', 'cherry']\n"
     ]
    }
   ],
   "source": [
    "fruits = [\"apple\", \"banana\", \"cherry\"]\n",
    "print(fruits)"
   ]
  },
  {
   "cell_type": "markdown",
   "metadata": {},
   "source": [
    "Heterogeneous Elements: A list can contain elements of different types: integers, floats, strings, and even other lists or tuples."
   ]
  },
  {
   "cell_type": "code",
   "execution_count": 2,
   "metadata": {},
   "outputs": [
    {
     "name": "stdout",
     "output_type": "stream",
     "text": [
      "[1, 'Alice', 3.14, [5, 6, 7]]\n"
     ]
    }
   ],
   "source": [
    "mixed_list = [1, \"Alice\", 3.14, [5, 6, 7]]\n",
    "print(mixed_list)"
   ]
  },
  {
   "cell_type": "markdown",
   "metadata": {},
   "source": [
    "Indexing and Slicing: Lists support indexing and slicing to access and modify their elements. Python list indices start at 0."
   ]
  },
  {
   "cell_type": "code",
   "execution_count": 3,
   "metadata": {},
   "outputs": [
    {
     "name": "stdout",
     "output_type": "stream",
     "text": [
      "1\n",
      "[2, 3]\n",
      "[10, 2, 3, 4, 5]\n"
     ]
    }
   ],
   "source": [
    "my_list = [1, 2, 3, 4, 5]\n",
    "print(my_list[0])  # 1\n",
    "print(my_list[1:3])  # [2, 3]\n",
    "my_list[0] = 10  # change the first element to 10\n",
    "print(my_list)"
   ]
  },
  {
   "cell_type": "markdown",
   "metadata": {},
   "source": [
    "Tuples\n",
    "\n",
    "Definition: A tuple in Python is similar to a list. It's an ordered collection of items.\n",
    "\n",
    "Immutable: The major difference from lists is that tuples are immutable, which means their elements cannot be changed (no addition, modification, or deletion) after they are created.\n",
    "\n",
    "Creation: A tuple is created by placing items (elements) inside parentheses (), separated by commas."
   ]
  },
  {
   "cell_type": "code",
   "execution_count": 5,
   "metadata": {},
   "outputs": [
    {
     "name": "stdout",
     "output_type": "stream",
     "text": [
      "(1, 2, 3, 4, 5)\n"
     ]
    }
   ],
   "source": [
    "my_tuple = (1, 2, 3, 4, 5)\n",
    "print(my_tuple)"
   ]
  },
  {
   "cell_type": "markdown",
   "metadata": {},
   "source": [
    "Heterogeneous Elements: Like lists, a tuple can also contain elements of different types: integers, floats, strings, and even other tuples or lists."
   ]
  },
  {
   "cell_type": "code",
   "execution_count": 6,
   "metadata": {},
   "outputs": [
    {
     "name": "stdout",
     "output_type": "stream",
     "text": [
      "(1, 2, 3, 'Tom', [5, 6, 7])\n"
     ]
    }
   ],
   "source": [
    "my_tuple = (1, 2, 3, \"Tom\", [5, 6, 7])\n",
    "print(my_tuple)"
   ]
  },
  {
   "cell_type": "markdown",
   "metadata": {},
   "source": [
    "Indexing and Slicing: Tuples also support indexing and slicing, like lists, but you cannot modify their elements."
   ]
  },
  {
   "cell_type": "code",
   "execution_count": 8,
   "metadata": {},
   "outputs": [
    {
     "name": "stdout",
     "output_type": "stream",
     "text": [
      "1\n",
      "(2, 3)\n"
     ]
    }
   ],
   "source": [
    "my_tuple = (1, 2, 3, 4, 5)\n",
    "print(my_tuple[0])  # 1\n",
    "print(my_tuple[1:3])  # (2, 3)"
   ]
  },
  {
   "cell_type": "markdown",
   "metadata": {},
   "source": [
    "Dictionaries\n",
    "\n",
    "Definition: A dictionary in Python is an unordered collection of items. Each item stored in a dictionary has a key and value, making it a key-value pair.\n",
    "\n",
    "Mutable: Dictionaries are mutable, which means you can change their elements. You can add, modify, or delete key-value pairs from a dictionary.\n",
    "\n",
    "Creation: A dictionary is created by placing items (key-value pairs) inside curly braces {}, separated by commas. Each item is a pair made up of a key and a value, separated by a colon :."
   ]
  },
  {
   "cell_type": "code",
   "execution_count": 9,
   "metadata": {},
   "outputs": [
    {
     "name": "stdout",
     "output_type": "stream",
     "text": [
      "{'name': 'Alice', 'age': 25}\n"
     ]
    }
   ],
   "source": [
    "person = {\"name\": \"Alice\", \"age\": 25}\n",
    "print(person)"
   ]
  },
  {
   "cell_type": "markdown",
   "metadata": {},
   "source": [
    "Heterogeneous Elements: Keys and values in a dictionary can be of any type. Values can be heterogeneous, but keys should be of an immutable type (like string, number, or tuple)."
   ]
  },
  {
   "cell_type": "code",
   "execution_count": 10,
   "metadata": {},
   "outputs": [
    {
     "name": "stdout",
     "output_type": "stream",
     "text": [
      "{1: 'Tom', 'age': 23, (1, 3): [4, 5, 3]}\n"
     ]
    }
   ],
   "source": [
    "my_dict = {1: \"Tom\", \"age\": 23, (1, 3): [4, 5, 3]}\n",
    "print(my_dict)"
   ]
  },
  {
   "cell_type": "markdown",
   "metadata": {},
   "source": [
    "Unique Keys: Each key in a dictionary should be unique. If a dictionary is created with duplicate keys, the last assignment will overwrite the previous ones."
   ]
  },
  {
   "cell_type": "code",
   "execution_count": 11,
   "metadata": {},
   "outputs": [
    {
     "name": "stdout",
     "output_type": "stream",
     "text": [
      "{'name': 'Bob'}\n"
     ]
    }
   ],
   "source": [
    "my_dict = {\"name\": \"Alice\", \"name\": \"Bob\"}\n",
    "print(my_dict)  # {'name': 'Bob'}"
   ]
  },
  {
   "cell_type": "markdown",
   "metadata": {},
   "source": [
    "Accessing Values: You can access a value in a dictionary by providing the corresponding key inside square brackets []"
   ]
  },
  {
   "cell_type": "code",
   "execution_count": 13,
   "metadata": {},
   "outputs": [
    {
     "name": "stdout",
     "output_type": "stream",
     "text": [
      "Tom\n"
     ]
    }
   ],
   "source": [
    "my_dict = {\"name\": \"Tom\", \"age\": 21}\n",
    "print(my_dict[\"name\"])  # Tom"
   ]
  },
  {
   "cell_type": "markdown",
   "metadata": {},
   "source": [
    "Updating Values: You can update the value for a particular key by using the assignment operator =."
   ]
  },
  {
   "cell_type": "code",
   "execution_count": 14,
   "metadata": {},
   "outputs": [
    {
     "name": "stdout",
     "output_type": "stream",
     "text": [
      "{'name': 'Tom', 'age': 20}\n"
     ]
    }
   ],
   "source": [
    "my_dict = {\"name\": \"Tom\", \"age\": 21}\n",
    "\n",
    "my_dict[\"age\"] = 20\n",
    "\n",
    "print(my_dict)  # {'name': 'tom', 'age': 20}"
   ]
  },
  {
   "cell_type": "markdown",
   "metadata": {},
   "source": [
    "Adding and Deleting Key-Value Pairs: You can add a new key-value pair simply by assigning a value to a new key. You can delete a key-value pair using the del keyword."
   ]
  },
  {
   "cell_type": "code",
   "execution_count": 15,
   "metadata": {},
   "outputs": [
    {
     "name": "stdout",
     "output_type": "stream",
     "text": [
      "{'name': 'Tom', 'city': 'New York'}\n"
     ]
    }
   ],
   "source": [
    "my_dict = {\"name\": \"Tom\", \"age\": 20}\n",
    "\n",
    "my_dict[\"city\"] = \"New York\"  # adding a new key-value pair\n",
    "\n",
    "del my_dict[\"age\"]  # deleting a key-value pair\n",
    "\n",
    "print(my_dict)  # {'name': 'Tom', 'city': 'New York'}"
   ]
  },
  {
   "cell_type": "markdown",
   "metadata": {},
   "source": [
    "Sets: A set is an unordered collection of items where every element is unique."
   ]
  },
  {
   "cell_type": "code",
   "execution_count": 16,
   "metadata": {},
   "outputs": [
    {
     "name": "stdout",
     "output_type": "stream",
     "text": [
      "{'red', 'green', 'blue'}\n"
     ]
    }
   ],
   "source": [
    "colors = {\"red\", \"green\", \"blue\"}\n",
    "print(colors)"
   ]
  },
  {
   "cell_type": "markdown",
   "metadata": {},
   "source": [
    "To determine the type of a variable, you can use the type() function:"
   ]
  },
  {
   "cell_type": "code",
   "execution_count": 17,
   "metadata": {},
   "outputs": [
    {
     "name": "stdout",
     "output_type": "stream",
     "text": [
      "<class 'int'>\n"
     ]
    }
   ],
   "source": [
    "x = 10\n",
    "print(type(x)) "
   ]
  },
  {
   "cell_type": "code",
   "execution_count": 18,
   "metadata": {},
   "outputs": [
    {
     "ename": "TypeError",
     "evalue": "can only concatenate str (not \"int\") to str",
     "output_type": "error",
     "traceback": [
      "\u001b[0;31m---------------------------------------------------------------------------\u001b[0m",
      "\u001b[0;31mTypeError\u001b[0m                                 Traceback (most recent call last)",
      "Cell \u001b[0;32mIn [18], line 4\u001b[0m\n\u001b[1;32m      1\u001b[0m \u001b[38;5;66;03m# Incorrect use of data types\u001b[39;00m\n\u001b[1;32m      2\u001b[0m \n\u001b[1;32m      3\u001b[0m \u001b[38;5;66;03m# Trying to add a string and an integer\u001b[39;00m\n\u001b[0;32m----> 4\u001b[0m result1 \u001b[38;5;241m=\u001b[39m \u001b[38;5;124;43m\"\u001b[39;49m\u001b[38;5;124;43m5\u001b[39;49m\u001b[38;5;124;43m\"\u001b[39;49m\u001b[43m \u001b[49m\u001b[38;5;241;43m+\u001b[39;49m\u001b[43m \u001b[49m\u001b[38;5;241;43m3\u001b[39;49m  \u001b[38;5;66;03m# Error: must be str, not int\u001b[39;00m\n\u001b[1;32m      6\u001b[0m \u001b[38;5;66;03m# Trying to access a non-existing index of a list\u001b[39;00m\n\u001b[1;32m      7\u001b[0m my_list \u001b[38;5;241m=\u001b[39m [\u001b[38;5;241m1\u001b[39m, \u001b[38;5;241m2\u001b[39m, \u001b[38;5;241m3\u001b[39m]\n",
      "\u001b[0;31mTypeError\u001b[0m: can only concatenate str (not \"int\") to str"
     ]
    }
   ],
   "source": [
    "# Incorrect use of data types\n",
    "\n",
    "# Trying to add a string and an integer\n",
    "result1 = \"5\" + 3  # Error: must be str, not int\n",
    "\n",
    "# Trying to access a non-existing index of a list\n",
    "my_list = [1, 2, 3]\n",
    "result2 = my_list[5]  # Error: list index out of range\n",
    "\n",
    "# Trying to change a value in a tuple\n",
    "my_tuple = (1, 2, 3)\n",
    "my_tuple[1] = 4  # Error: 'tuple' object does not support item assignment\n",
    "\n",
    "# Trying to access a non-existing key in a dictionary\n",
    "my_dict = {\"one\": 1, \"two\": 2}\n",
    "result4 = my_dict[\"three\"]  # Error: 'three' key not found\n",
    "\n",
    "print(result1, result2, my_tuple, result4)"
   ]
  },
  {
   "cell_type": "code",
   "execution_count": 19,
   "metadata": {},
   "outputs": [
    {
     "name": "stdout",
     "output_type": "stream",
     "text": [
      "53 3 (1, 4, 3) None\n"
     ]
    }
   ],
   "source": [
    "# Correct use of data types\n",
    "\n",
    "# Convert the integer to a string before adding\n",
    "result1 = \"5\" + str(3) \n",
    "\n",
    "# Check if the index exists before accessing\n",
    "result2 = my_list[2] if len(my_list) > 2 else None\n",
    "\n",
    "# Tuples are immutable, create a new one if you need to change a value\n",
    "my_tuple = (1, 4, 3)\n",
    "\n",
    "# Check if the key exists before accessing\n",
    "result4 = my_dict.get(\"three\", None)\n",
    "\n",
    "print(result1, result2, my_tuple, result4)\n"
   ]
  },
  {
   "cell_type": "markdown",
   "metadata": {},
   "source": [
    "Standard Input and Output"
   ]
  },
  {
   "cell_type": "markdown",
   "metadata": {},
   "source": [
    "Standard Output\n",
    "\n",
    "This is typically the terminal (or the console) where the program is run. When a program wants to output some information, it will typically print to the standard output.\n",
    "Python provides print() function to send data to standard output. Here is an example:"
   ]
  },
  {
   "cell_type": "code",
   "execution_count": 21,
   "metadata": {},
   "outputs": [
    {
     "name": "stdout",
     "output_type": "stream",
     "text": [
      "Welcome!\n"
     ]
    }
   ],
   "source": [
    "print(\"Welcome!\")\n",
    "# In this example, the string \"Welcome!\" is sent to the standard output.\n",
    "# Usually your terminal or console where you are running the program."
   ]
  },
  {
   "cell_type": "markdown",
   "metadata": {},
   "source": [
    "Standard Input:\n",
    "\n",
    "This is usually the keyboard, but it can also be data coming from a file or another program.\n",
    "Python provides the input() function to read data from standard input. Here is an example:"
   ]
  },
  {
   "cell_type": "code",
   "execution_count": 22,
   "metadata": {},
   "outputs": [
    {
     "name": "stdin",
     "output_type": "stream",
     "text": [
      "Enter your name:  Sangeeta\n"
     ]
    },
    {
     "name": "stdout",
     "output_type": "stream",
     "text": [
      "Hello, Sangeeta!\n"
     ]
    }
   ],
   "source": [
    "name = input(\"Enter your name: \")\n",
    "print(f\"Hello, {name}!\")"
   ]
  },
  {
   "cell_type": "markdown",
   "metadata": {},
   "source": [
    "- The f before the string in print(f\"Hello, {name}!\") is used to denote a formatted string literal, often called f-string for short.\n",
    "- F-strings were introduced in Python 3.6 as a new way to format strings. They are prefixed with 'f' and are followed by a string literal enclosed in quotes. The expression within the curly braces {} gets evaluated and inserted into the string."
   ]
  },
  {
   "cell_type": "markdown",
   "metadata": {},
   "source": [
    "Redirecting Standard Output and Input:\n",
    "\n",
    "Sometimes, you might want to save the output of a program to a file instead of printing it to the terminal. This is called redirecting the standard output. \n",
    "While this isn't done with Python code, but with command line syntax, it is still a common and important concept. \n",
    "Similarly to redirecting output, you can also redirect the standard input from a file."
   ]
  },
  {
   "cell_type": "code",
   "execution_count": 23,
   "metadata": {},
   "outputs": [
    {
     "ename": "SyntaxError",
     "evalue": "invalid syntax (3908267376.py, line 1)",
     "output_type": "error",
     "traceback": [
      "\u001b[0;36m  Cell \u001b[0;32mIn [23], line 1\u001b[0;36m\u001b[0m\n\u001b[0;31m    python my_script.py > output.txt\u001b[0m\n\u001b[0m           ^\u001b[0m\n\u001b[0;31mSyntaxError\u001b[0m\u001b[0;31m:\u001b[0m invalid syntax\n"
     ]
    }
   ],
   "source": [
    "python my_script.py > output.txt"
   ]
  },
  {
   "cell_type": "code",
   "execution_count": 24,
   "metadata": {},
   "outputs": [
    {
     "ename": "SyntaxError",
     "evalue": "invalid syntax (4221689707.py, line 1)",
     "output_type": "error",
     "traceback": [
      "\u001b[0;36m  Cell \u001b[0;32mIn [24], line 1\u001b[0;36m\u001b[0m\n\u001b[0;31m    python my_script.py < input.txt\u001b[0m\n\u001b[0m           ^\u001b[0m\n\u001b[0;31mSyntaxError\u001b[0m\u001b[0;31m:\u001b[0m invalid syntax\n"
     ]
    }
   ],
   "source": [
    "python my_script.py < input.txt"
   ]
  },
  {
   "cell_type": "code",
   "execution_count": 25,
   "metadata": {},
   "outputs": [
    {
     "name": "stdin",
     "output_type": "stream",
     "text": [
      "Enter the first number:  10\n",
      "Enter the second number:  20\n"
     ]
    },
    {
     "name": "stdout",
     "output_type": "stream",
     "text": [
      "The sum of 10 and 20 is 30.\n"
     ]
    }
   ],
   "source": [
    "# Take input from the user for two numbers\n",
    "num1 = int(input(\"Enter the first number: \"))\n",
    "num2 = int(input(\"Enter the second number: \"))\n",
    "\n",
    "# Calculate the sum of the two numbers\n",
    "sum_of_numbers = num1 + num2\n",
    "\n",
    "# Print the result\n",
    "print(f\"The sum of {num1} and {num2} is {sum_of_numbers}.\")"
   ]
  },
  {
   "cell_type": "code",
   "execution_count": 26,
   "metadata": {},
   "outputs": [
    {
     "name": "stdout",
     "output_type": "stream",
     "text": [
      "Your marks in Maths: 90 and in English: 85\n"
     ]
    }
   ],
   "source": [
    "Maths = 90\n",
    "English = 85\n",
    "print(\"Your marks in Maths:\", Maths, \"and in English:\", English)"
   ]
  },
  {
   "cell_type": "code",
   "execution_count": 27,
   "metadata": {},
   "outputs": [
    {
     "name": "stdout",
     "output_type": "stream",
     "text": [
      "Your marks in Maths: 90 \n",
      "Your marks in English: 85\n"
     ]
    }
   ],
   "source": [
    "Maths = 90\n",
    "English = 85\n",
    "\n",
    "print(\"Your marks in Maths:\", Maths, \"\\nYour marks in English:\", English)"
   ]
  },
  {
   "cell_type": "markdown",
   "metadata": {},
   "source": [
    "Write a Python program that prompts the user to enter two numbers. The program should then perform addition, subtraction, multiplication, and division on these numbers and display the results"
   ]
  },
  {
   "cell_type": "code",
   "execution_count": 28,
   "metadata": {},
   "outputs": [
    {
     "name": "stdin",
     "output_type": "stream",
     "text": [
      "Enter the first number:  50\n",
      "Enter the second number:  10\n"
     ]
    },
    {
     "name": "stdout",
     "output_type": "stream",
     "text": [
      "The sum of 50.0 and 10.0 is: 60.0\n",
      "The difference between 50.0 and 10.0 is: 40.0\n",
      "The product of 50.0 and 10.0 is: 500.0\n",
      "The quotient of 50.0 and 10.0 is: 5.0\n"
     ]
    }
   ],
   "source": [
    "# Prompt the user to enter two numbers\n",
    "num1 = float(input(\"Enter the first number: \"))\n",
    "num2 = float(input(\"Enter the second number: \"))\n",
    "\n",
    "# Perform arithmetic operations\n",
    "sum = num1 + num2\n",
    "difference = num1 - num2\n",
    "product = num1 * num2\n",
    "\n",
    "# Handle division carefully as division by zero is undefined\n",
    "if num2 != 0:\n",
    "    quotient = num1 / num2\n",
    "else:\n",
    "    quotient = \"Undefined (division by zero)\"\n",
    "\n",
    "# Print the results\n",
    "print(f\"The sum of {num1} and {num2} is: {sum}\")\n",
    "print(f\"The difference between {num1} and {num2} is: {difference}\")\n",
    "print(f\"The product of {num1} and {num2} is: {product}\")\n",
    "print(f\"The quotient of {num1} and {num2} is: {quotient}\")"
   ]
  },
  {
   "cell_type": "markdown",
   "metadata": {},
   "source": [
    "Operators"
   ]
  },
  {
   "cell_type": "markdown",
   "metadata": {},
   "source": [
    "Various Operators in Python are:\n",
    "\n",
    "- Arithmetic operators\n",
    "- Assignment operators\n",
    "- Comparison operators\n",
    "- Logical operators\n",
    "- Identity operators\n",
    "- Membership operators\n",
    "- Bitwise operators\n",
    "\n",
    "Arithmetic Operators: Used to perform mathematical operations."
   ]
  },
  {
   "cell_type": "code",
   "execution_count": 29,
   "metadata": {},
   "outputs": [
    {
     "name": "stdout",
     "output_type": "stream",
     "text": [
      "13\n",
      "7\n",
      "30\n",
      "3.3333333333333335\n",
      "3\n",
      "1\n",
      "1000\n"
     ]
    }
   ],
   "source": [
    "a = 10\n",
    "b = 3\n",
    "\n",
    "print(a + b)  # Addition, Output: 13\n",
    "print(a - b)  # Subtraction, Output: 7\n",
    "print(a * b)  # Multiplication, Output: 30\n",
    "print(a / b)  # Division, Output: 3.3333333333333335\n",
    "print(a // b) # Floor Division, Output: 3\n",
    "print(a % b)  # Modulus, Output: 1\n",
    "print(a ** b) # Exponent, Output: 1000"
   ]
  },
  {
   "cell_type": "markdown",
   "metadata": {},
   "source": [
    "Assignment Operators: Used to assign values to variables.\n",
    "\n",
    "a = 10 # Assigns value 10 to a print(a)\n",
    "\n",
    "a += 5 # Same as a = a + 5, Output: 15 print(a)\n",
    "\n",
    "a -= 3 # Same as a = a - 3, Output: 12 print(a)\n",
    "\n",
    "a *= 2 # Same as a = a * 2, Output: 24 print(a)\n",
    "\n",
    "a /= 6 # Same as a = a / 6, Output: 4.0 print(a)\n",
    "\n",
    "Comparison Operators: Used to compare two values."
   ]
  },
  {
   "cell_type": "code",
   "execution_count": 30,
   "metadata": {},
   "outputs": [
    {
     "name": "stdout",
     "output_type": "stream",
     "text": [
      "False\n",
      "True\n",
      "False\n",
      "True\n",
      "False\n",
      "True\n"
     ]
    }
   ],
   "source": [
    "a = 10\n",
    "b = 20\n",
    "\n",
    "print(a == b)  # Equal to, Output: False\n",
    "print(a != b)  # Not equal to, Output: True\n",
    "print(a > b)   # Greater than, Output: False\n",
    "print(a < b)   # Less than, Output: True\n",
    "print(a >= b)  # Greater than or equal to, Output: False\n",
    "print(a <= b)  # Less than or equal to, Output: True"
   ]
  },
  {
   "cell_type": "markdown",
   "metadata": {},
   "source": [
    "Logical Operators: Used to combine conditional statements."
   ]
  },
  {
   "cell_type": "code",
   "execution_count": 31,
   "metadata": {},
   "outputs": [
    {
     "name": "stdout",
     "output_type": "stream",
     "text": [
      "False\n",
      "True\n",
      "False\n"
     ]
    }
   ],
   "source": [
    "a = True\n",
    "b = False\n",
    "\n",
    "print(a and b) # Logical AND, Output: False\n",
    "print(a or b)  # Logical OR, Output: True\n",
    "print(not a)   # Logical NOT, Output: False\n"
   ]
  },
  {
   "cell_type": "markdown",
   "metadata": {},
   "source": [
    "Bitwise Operators: Used to perform bitwise calculations on integers.\n",
    "\n",
    "AND Operator &: Compares each bit of the first operand with the corresponding bit of the second operand. If both bits are 1, the corresponding result bit is set to 1. Otherwise, the result bit is set to 0."
   ]
  },
  {
   "cell_type": "code",
   "execution_count": 32,
   "metadata": {},
   "outputs": [
    {
     "name": "stdout",
     "output_type": "stream",
     "text": [
      "0\n"
     ]
    }
   ],
   "source": [
    "a = 10       # in binary: 1010\n",
    "b = 4        # in binary: 0100\n",
    "result = a & b  # result is 0 (in binary: 0000)\n",
    "print(result)\n"
   ]
  },
  {
   "cell_type": "markdown",
   "metadata": {},
   "source": [
    "OR Operator |: Compares each bit of the first operand with the corresponding bit of the second operand. If either bit is 1, the corresponding result bit is set to 1. Otherwise, the result bit is set to 0."
   ]
  },
  {
   "cell_type": "code",
   "execution_count": 33,
   "metadata": {},
   "outputs": [
    {
     "name": "stdout",
     "output_type": "stream",
     "text": [
      "14\n"
     ]
    }
   ],
   "source": [
    "a = 10       # in binary: 1010\n",
    "b = 4        # in binary: 0100\n",
    "result = a | b  # result is 14 (in binary: 1110)\n",
    "print(result)"
   ]
  },
  {
   "cell_type": "markdown",
   "metadata": {},
   "source": [
    "NOT Operator ~: Inverts all the bits of the operand. Every 0 is changed to 1, and every 1 is changed to 0."
   ]
  },
  {
   "cell_type": "code",
   "execution_count": 34,
   "metadata": {},
   "outputs": [
    {
     "name": "stdout",
     "output_type": "stream",
     "text": [
      "-11\n"
     ]
    }
   ],
   "source": [
    "a = 10         # in binary: 1010\n",
    "result = ~a    # result is -11 (in binary: -1011)\n",
    "print(result)\n"
   ]
  },
  {
   "cell_type": "markdown",
   "metadata": {},
   "source": [
    "XOR Operator ^: Compares each bit of the first operand with the corresponding bit of the second operand. If one of the bits is 1 (but not both), the corresponding result bit is set to 1. Otherwise, the result bit is set to 0."
   ]
  },
  {
   "cell_type": "code",
   "execution_count": 35,
   "metadata": {},
   "outputs": [
    {
     "name": "stdout",
     "output_type": "stream",
     "text": [
      "14\n"
     ]
    }
   ],
   "source": [
    "a = 10       # in binary: 1010\n",
    "b = 4        # in binary: 0100\n",
    "result = a ^ b  # result is 14 (in binary: 1110)\n",
    "print(result)"
   ]
  },
  {
   "cell_type": "markdown",
   "metadata": {},
   "source": [
    "Right Shift Operator >>: Shifts the bits of the number to the right by the number of bits specified. Each shift to the right corresponds to dividing the number by 2."
   ]
  },
  {
   "cell_type": "code",
   "execution_count": 36,
   "metadata": {},
   "outputs": [
    {
     "name": "stdout",
     "output_type": "stream",
     "text": [
      "2\n"
     ]
    }
   ],
   "source": [
    "a = 10        # in binary: 1010\n",
    "result = a >> 2  # result is 2 (in binary: 0010)\n",
    "print(result)"
   ]
  },
  {
   "cell_type": "markdown",
   "metadata": {},
   "source": [
    "Left Shift Operator <<: Shifts the bits of the number to the left by the number of bits specified. Each shift to the left corresponds to multiplying the number by 2."
   ]
  },
  {
   "cell_type": "code",
   "execution_count": 37,
   "metadata": {},
   "outputs": [
    {
     "name": "stdout",
     "output_type": "stream",
     "text": [
      "40\n"
     ]
    }
   ],
   "source": [
    "a = 10        # in binary: 1010\n",
    "result = a << 2  # result is 40 (in binary: 101000)\n",
    "print(result)"
   ]
  },
  {
   "cell_type": "markdown",
   "metadata": {},
   "source": [
    "Remember, bitwise operations are only applicable to integers.\n",
    "\n",
    "Membership Operators: Used to test whether a value or variable is found in a sequence (string, list, tuple, set, and dictionary)."
   ]
  },
  {
   "cell_type": "code",
   "execution_count": 38,
   "metadata": {},
   "outputs": [
    {
     "name": "stdout",
     "output_type": "stream",
     "text": [
      "True\n",
      "True\n"
     ]
    }
   ],
   "source": [
    "list = [1, 2, 3, 4, 5]\n",
    "print(1 in list)    # Output: True\n",
    "print(6 not in list) # Output: True"
   ]
  },
  {
   "cell_type": "markdown",
   "metadata": {},
   "source": [
    "Identity Operators: Used to compare the objects, not if they are equal, but if they are actually the same object, with the same memory location."
   ]
  },
  {
   "cell_type": "code",
   "execution_count": 39,
   "metadata": {},
   "outputs": [],
   "source": [
    "a = 5\n",
    "b = 5"
   ]
  },
  {
   "cell_type": "markdown",
   "metadata": {},
   "source": [
    "Let us solve few problems:"
   ]
  },
  {
   "cell_type": "code",
   "execution_count": 40,
   "metadata": {},
   "outputs": [
    {
     "name": "stdout",
     "output_type": "stream",
     "text": [
      "The addition of num1 and num2 is: 15\n",
      "The subtraction of num1 and num2 is: 5\n",
      "The multiplication of num1 and num2 is: 50\n"
     ]
    }
   ],
   "source": [
    "# Using Arithmetic Operators\n",
    "num1 = 10\n",
    "num2 = 5\n",
    "\n",
    "add = num1 + num2\n",
    "print(\"The addition of num1 and num2 is:\", add)\n",
    "\n",
    "sub = num1 - num2\n",
    "print(\"The subtraction of num1 and num2 is:\", sub)\n",
    "\n",
    "mul = num1 * num2\n",
    "print(\"The multiplication of num1 and num2 is:\", mul)"
   ]
  },
  {
   "cell_type": "code",
   "execution_count": 41,
   "metadata": {},
   "outputs": [
    {
     "name": "stdout",
     "output_type": "stream",
     "text": [
      "The addition of num1 and num2 is: 15\n",
      "The subtraction of num1 and num2 is: 5\n",
      "The multiplication of num1 and num2 is: 50\n"
     ]
    }
   ],
   "source": [
    "# write this code using Assignment operators\n",
    "# Using Assignment Operators\n",
    "num1 = 10\n",
    "num2 = 5\n",
    "\n",
    "num1 += num2  # equivalent to num1 = num1 + num2\n",
    "print(\"The addition of num1 and num2 is:\", num1)\n",
    "\n",
    "num1 = 10  # reset num1\n",
    "num1 -= num2  # equivalent to num1 = num1 - num2\n",
    "print(\"The subtraction of num1 and num2 is:\", num1)\n",
    "\n",
    "num1 = 10  # reset num1\n",
    "num1 *= num2  # equivalent to num1 = num1 * num2\n",
    "print(\"The multiplication of num1 and num2 is:\", num1)\n"
   ]
  },
  {
   "cell_type": "markdown",
   "metadata": {},
   "source": [
    "Control flow: if else elif"
   ]
  },
  {
   "cell_type": "markdown",
   "metadata": {},
   "source": [
    " Conditional statements are used to execute or skip blocks of code based on certain conditions. The if, elif, and else keywords are used to define these conditional statements."
   ]
  },
  {
   "cell_type": "code",
   "execution_count": 42,
   "metadata": {},
   "outputs": [
    {
     "name": "stdout",
     "output_type": "stream",
     "text": [
      "You are eligible to vote.\n"
     ]
    }
   ],
   "source": [
    "age = 20\n",
    "if age >= 18:\n",
    "    print(\"You are eligible to vote.\")"
   ]
  },
  {
   "cell_type": "code",
   "execution_count": 43,
   "metadata": {},
   "outputs": [
    {
     "name": "stdout",
     "output_type": "stream",
     "text": [
      "You are not eligible to vote.\n"
     ]
    }
   ],
   "source": [
    "age = 16\n",
    "if age >= 18:\n",
    "    print(\"You are eligible to vote.\")\n",
    "else:\n",
    "    print(\"You are not eligible to vote.\")\n"
   ]
  },
  {
   "cell_type": "code",
   "execution_count": 44,
   "metadata": {},
   "outputs": [
    {
     "name": "stdout",
     "output_type": "stream",
     "text": [
      "Grade is B\n"
     ]
    }
   ],
   "source": [
    "score = 85\n",
    "if score >= 90:\n",
    "    print(\"Grade is A\")\n",
    "elif score >= 80:\n",
    "    print(\"Grade is B\")\n",
    "elif score >= 70:\n",
    "    print(\"Grade is C\")\n",
    "else:\n",
    "    print(\"Grade is D\")\n"
   ]
  },
  {
   "cell_type": "markdown",
   "metadata": {},
   "source": [
    "Write a program using \"IF\" to find 2nd largest number form 3 numbers."
   ]
  },
  {
   "cell_type": "code",
   "execution_count": 45,
   "metadata": {},
   "outputs": [
    {
     "name": "stdout",
     "output_type": "stream",
     "text": [
      "The second-largest number is: 20\n"
     ]
    }
   ],
   "source": [
    "# Program to find the second-largest number from three numbers\n",
    "\n",
    "# Input the three numbers\n",
    "#num1 = float(input(\"Enter the first number: \"))\n",
    "#num2 = float(input(\"Enter the second number: \"))\n",
    "#num3 = float(input(\"Enter the third number: \"))\n",
    "\n",
    "num1 = 10\n",
    "num2 = 20\n",
    "num3 = 30\n",
    "\n",
    "# Compare the numbers to find the second-largest\n",
    "if num1 >= num2 and num1 >= num3:\n",
    "    if num2 >= num3:\n",
    "        second_largest = num2\n",
    "    else:\n",
    "        second_largest = num3\n",
    "elif num2 >= num1 and num2 >= num3:\n",
    "    if num1 >= num3:\n",
    "        second_largest = num1\n",
    "    else:\n",
    "        second_largest = num3\n",
    "else:\n",
    "    if num1 >= num2:\n",
    "        second_largest = num1\n",
    "    else:\n",
    "        second_largest = num2\n",
    "\n",
    "# Print the second-largest number\n",
    "print(\"The second-largest number is:\", second_largest)"
   ]
  },
  {
   "cell_type": "code",
   "execution_count": null,
   "metadata": {},
   "outputs": [],
   "source": []
  }
 ],
 "metadata": {
  "kernelspec": {
   "display_name": "Python 3 (ipykernel)",
   "language": "python",
   "name": "python3"
  },
  "language_info": {
   "codemirror_mode": {
    "name": "ipython",
    "version": 3
   },
   "file_extension": ".py",
   "mimetype": "text/x-python",
   "name": "python",
   "nbconvert_exporter": "python",
   "pygments_lexer": "ipython3",
   "version": "3.10.6"
  }
 },
 "nbformat": 4,
 "nbformat_minor": 4
}
